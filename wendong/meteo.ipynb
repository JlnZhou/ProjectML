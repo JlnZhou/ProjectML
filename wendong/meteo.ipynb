{
 "cells": [
  {
   "cell_type": "code",
   "execution_count": null,
   "metadata": {},
   "outputs": [],
   "source": [
    "import numpy as np\n",
    "import pandas as pd\n",
    "import geopandas as gpd\n",
    "import datetime\n",
    "import matplotlib.pyplot as plt\n",
    "\n",
    "\n",
    "from shapely.geometry import Point"
   ]
  },
  {
   "cell_type": "code",
   "execution_count": null,
   "metadata": {},
   "outputs": [],
   "source": [
    "##Récupérer les données météo"
   ]
  },
  {
   "cell_type": "code",
   "execution_count": null,
   "metadata": {},
   "outputs": [],
   "source": [
    "tableau_stations_file = \"../Data/Seine/Stations_2019.csv\"\n",
    "tableau_stations = gpd.read_file(tableau_stations_file, encoding='utf-8')\n",
    "\n",
    "world = gpd.read_file(gpd.datasets.get_path('naturalearth_lowres'))\n",
    "cities = gpd.read_file(gpd.datasets.get_path('naturalearth_cities'))"
   ]
  },
  {
   "cell_type": "code",
   "execution_count": null,
   "metadata": {},
   "outputs": [],
   "source": [
    "tableau_stations['geometry'] = tableau_stations.apply(lambda x: Point(float(x['X (m)']), float(x['Y (m)'])), axis = 1)\n",
    "tableau_stations = tableau_stations.set_crs('EPSG:27572')\n",
    "tableau_stations = tableau_stations.to_crs(world.crs)\n",
    "tableau_stations"
   ]
  },
  {
   "cell_type": "code",
   "execution_count": null,
   "metadata": {},
   "outputs": [],
   "source": [
    "data= pd.read_csv(\"https://power.larc.nasa.gov/api/temporal/hourly/point?Time=LST&parameters=T2M,T2MDEW,T2MWET,QV2M,RH2M,PRECTOTCORR&community=AG&longitude=4.6695&latitude=47.6781&start=20010101&end=20201231&format=CSV\", skiprows=14,encoding='utf8')\n",
    "data"
   ]
  },
  {
   "cell_type": "code",
   "execution_count": null,
   "metadata": {},
   "outputs": [],
   "source": [
    "'''Parameter(s):\n",
    "T2M             MERRA-2 Temperature at 2 Meters (C) \n",
    "T2MDEW          MERRA-2 Dew/Frost Point at 2 Meters (C)\n",
    "T2MWET          MERRA-2 Wet Bulb Temperature at 2 Meters (C) \n",
    "QV2M            MERRA-2 Specific Humidity at 2 Meters (g/kg) \n",
    "RH2M            MERRA-2 Relative Humidity at 2 Meters (%) \n",
    "PRECTOTCORR     MERRA-2 Precipitation Corrected (mm/hour) '''\n"
   ]
  },
  {
   "cell_type": "code",
   "execution_count": null,
   "metadata": {},
   "outputs": [],
   "source": [
    "tableau_stations['lon'] = tableau_stations.geometry.apply(lambda p: p.x)\n",
    "tableau_stations['lat'] = tableau_stations.geometry.apply(lambda p: p.y)\n",
    "tableau_stations"
   ]
  },
  {
   "cell_type": "code",
   "execution_count": null,
   "metadata": {},
   "outputs": [],
   "source": []
  },
  {
   "cell_type": "code",
   "execution_count": null,
   "metadata": {},
   "outputs": [],
   "source": [
    "for i in range(tableau_stations.shape[0]):\n",
    "    lon=tableau_stations[\"lon\"][i]\n",
    "    lat=tableau_stations[\"lat\"][i]\n",
    "    name=tableau_stations[\"Code station\"][i]\n",
    "    data = pd.read_csv(\"https://power.larc.nasa.gov/api/temporal/hourly/point?Time=LST&parameters=T2M,T2MDEW,T2MWET,QV2M,RH2M,PRECTOTCORR&community=AG&longitude={}&latitude={}&start=20010101&end=20201231&format=CSV\".format(lon,lat),skiprows=14)\n",
    "    data.to_csv(str(name)+\".csv\", index = False, header = True)\n",
    "    \n",
    "    "
   ]
  },
  {
   "cell_type": "code",
   "execution_count": null,
   "metadata": {},
   "outputs": [],
   "source": [
    "for i in range(tableau_stations.shape[0]):"
   ]
  },
  {
   "cell_type": "code",
   "execution_count": null,
   "metadata": {},
   "outputs": [],
   "source": []
  },
  {
   "cell_type": "code",
   "execution_count": null,
   "metadata": {},
   "outputs": [],
   "source": [
    "\n",
    "data= pd.read_csv(\"https://nrfaapps.ceh.ac.uk/nrfa/ws/time-series?format=nrfa-csv&data-type=cdr&station=45001\")\n",
    "data"
   ]
  },
  {
   "cell_type": "code",
   "execution_count": null,
   "metadata": {},
   "outputs": [],
   "source": []
  },
  {
   "cell_type": "code",
   "execution_count": null,
   "metadata": {},
   "outputs": [],
   "source": []
  },
  {
   "cell_type": "code",
   "execution_count": null,
   "metadata": {},
   "outputs": [],
   "source": []
  }
 ],
 "metadata": {
  "kernelspec": {
   "display_name": "Python 3",
   "language": "python",
   "name": "python3"
  },
  "language_info": {
   "codemirror_mode": {
    "name": "ipython",
    "version": 3
   },
   "file_extension": ".py",
   "mimetype": "text/x-python",
   "name": "python",
   "nbconvert_exporter": "python",
   "pygments_lexer": "ipython3",
   "version": "3.7.3"
  }
 },
 "nbformat": 4,
 "nbformat_minor": 2
}
