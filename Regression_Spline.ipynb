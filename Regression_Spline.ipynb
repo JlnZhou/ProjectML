{
 "cells": [
  {
   "cell_type": "markdown",
   "id": "e73c77a1-1713-4b2e-815a-fb19c4089219",
   "metadata": {},
   "source": [
    "Modèle additif, on essaie de capter la composante saisonniere avec une spline cyclique."
   ]
  },
  {
   "cell_type": "code",
   "execution_count": 1,
   "id": "dd1b5aec-9031-4077-ba0d-0edf5ae9ee02",
   "metadata": {},
   "outputs": [],
   "source": [
    "import pandas as pd\n",
    "import numpy as np"
   ]
  },
  {
   "cell_type": "code",
   "execution_count": 2,
   "id": "c8121be2-f03a-42c5-9beb-fcac6bd4652b",
   "metadata": {},
   "outputs": [],
   "source": [
    "stations_debit = pd.read_csv(\"../Data/Base/Stations_Debit.csv\")\n",
    "liste_stations = list(stations_debit[\"Code station\"])\n",
    "\n",
    "mesures_train_X = pd.read_csv(\"../Data/Base/Mesures_Train_X.csv\")\n",
    "mesures_train_X[\"Date\"] = pd.to_datetime(mesures_train_X[\"Date\"], format = \"%Y/%m/%d %H:%M:%S\")\n",
    "mesures_train_Y = pd.read_csv(\"../Data/Base/Mesures_Train_Y.csv\")\n",
    "\n",
    "train_split_X = pd.read_csv(\"../Data/Base/Index_CV_X.csv\")\n",
    "train_split_Y = pd.read_csv(\"../Data/Base/Index_CV_Y.csv\")\n",
    "\n",
    "mesures_test_X = pd.read_csv(\"../Data/Base/Mesures_Test_X.csv\")\n",
    "mesures_test_X[\"Date\"] = pd.to_datetime(mesures_test_X[\"Date\"], format = \"%Y/%m/%d %H:%M:%S\")\n",
    "mesures_test_Y = pd.read_csv(\"../Data/Base/Mesures_Test_Y.csv\")"
   ]
  },
  {
   "cell_type": "markdown",
   "id": "54b938b8-2241-48a3-a244-680ed21d70d5",
   "metadata": {},
   "source": [
    "## Fonctions"
   ]
  },
  {
   "cell_type": "markdown",
   "id": "9292ae68-c08d-4a1d-9d05-f8335ec6e6b4",
   "metadata": {
    "tags": []
   },
   "source": [
    "### Calcul de la spline"
   ]
  },
  {
   "cell_type": "code",
   "execution_count": null,
   "id": "ce023dba-c43a-4260-8490-d8e6f14bc658",
   "metadata": {},
   "outputs": [],
   "source": []
  },
  {
   "cell_type": "code",
   "execution_count": 7,
   "id": "69ac268a-d426-4b06-b0f8-a3a1eb5487ce",
   "metadata": {},
   "outputs": [],
   "source": [
    "curr_split = 0\n",
    "\n",
    "curr_test_X = mesures_train_X[train_split_X[\"Test_\" + str(curr_split)]]\n",
    "curr_test_Y = mesures_train_Y[train_split_Y[\"Test_\" + str(curr_split)]]\n"
   ]
  },
  {
   "cell_type": "code",
   "execution_count": 10,
   "id": "bbfb0490-a100-41ff-a4b6-90100defff3d",
   "metadata": {},
   "outputs": [
    {
     "data": {
      "text/plain": [
       "4380   2011-01-01 00:00:00\n",
       "4381   2011-01-01 02:00:00\n",
       "4382   2011-01-01 04:00:00\n",
       "4383   2011-01-01 06:00:00\n",
       "4384   2011-01-01 08:00:00\n",
       "               ...        \n",
       "8755   2011-12-31 14:00:00\n",
       "8756   2011-12-31 16:00:00\n",
       "8757   2011-12-31 18:00:00\n",
       "8758   2011-12-31 20:00:00\n",
       "8759   2011-12-31 22:00:00\n",
       "Name: Date, Length: 4380, dtype: datetime64[ns]"
      ]
     },
     "execution_count": 10,
     "metadata": {},
     "output_type": "execute_result"
    }
   ],
   "source": []
  },
  {
   "cell_type": "code",
   "execution_count": null,
   "id": "9e8ab9e7-327b-48d2-a620-4b585ff93b70",
   "metadata": {},
   "outputs": [],
   "source": [
    "for curr_split in range(9):\n",
    "    curr_test_X = mesures_train_X[train_split_X[\"Test_\" + str(curr_split)]]\n",
    "    curr_test_Y = mesures_train_Y[train_split_Y[\"Test_\" + str(curr_split)]]\n",
    "    \n",
    "    dates_predictions = curr_test_Y[[\"Jour\", \"Mois\", \"Annee\"]]\n",
    "    liste_stations = list(stations_debit[\"Code station\"])\n",
    "    \n",
    "    predictions_Y = fct_Modele_Naif(curr_test_X, dates_predictions, liste_stations)\n",
    "    \n",
    "    curr_scores = fct_scores_mse(curr_test_Y, predictions_Y, liste_stations)\n",
    "    cv_scores[\"Split_\" + str(curr_split)] = curr_scores[\"MSE\"]\n",
    "cv_scores"
   ]
  },
  {
   "cell_type": "code",
   "execution_count": null,
   "id": "2ee5164a-075d-4772-be29-b0cdc8a7924a",
   "metadata": {},
   "outputs": [],
   "source": []
  },
  {
   "cell_type": "code",
   "execution_count": null,
   "id": "127b12b1-58b5-410c-b329-52c8529672a8",
   "metadata": {},
   "outputs": [],
   "source": []
  },
  {
   "cell_type": "code",
   "execution_count": null,
   "id": "8caffb66-af58-457c-9390-76f0ab67130f",
   "metadata": {},
   "outputs": [],
   "source": []
  },
  {
   "cell_type": "code",
   "execution_count": 5,
   "id": "849ae345-d220-4af7-a21b-eeb485cd6e36",
   "metadata": {},
   "outputs": [
    {
     "data": {
      "text/plain": [
       "array([[0.        ],\n",
       "       [0.6981317 ],\n",
       "       [1.3962634 ],\n",
       "       [2.0943951 ],\n",
       "       [2.7925268 ],\n",
       "       [3.4906585 ],\n",
       "       [4.1887902 ],\n",
       "       [4.88692191],\n",
       "       [5.58505361],\n",
       "       [6.28318531]])"
      ]
     },
     "execution_count": 5,
     "metadata": {},
     "output_type": "execute_result"
    }
   ],
   "source": [
    "np.linspace(0, 2 * np.pi, 10)[:, None]"
   ]
  }
 ],
 "metadata": {
  "kernelspec": {
   "display_name": "Python 3 (ipykernel)",
   "language": "python",
   "name": "python3"
  },
  "language_info": {
   "codemirror_mode": {
    "name": "ipython",
    "version": 3
   },
   "file_extension": ".py",
   "mimetype": "text/x-python",
   "name": "python",
   "nbconvert_exporter": "python",
   "pygments_lexer": "ipython3",
   "version": "3.7.4"
  }
 },
 "nbformat": 4,
 "nbformat_minor": 5
}
