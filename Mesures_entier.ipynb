{
 "cells": [
  {
   "cell_type": "code",
   "execution_count": 1,
   "metadata": {},
   "outputs": [],
   "source": [
    "import numpy as np\n",
    "import pandas as pd\n",
    "import geopandas as gpd\n",
    "import datetime\n",
    "import matplotlib.pyplot as plt\n",
    "from matplotlib import cm\n",
    "from scipy import signal\n",
    "\n",
    "from shapely.geometry import Point"
   ]
  },
  {
   "cell_type": "markdown",
   "metadata": {},
   "source": [
    "On rassemble tous les dataset de tous les cours d'eau"
   ]
  },
  {
   "cell_type": "code",
   "execution_count": 2,
   "metadata": {},
   "outputs": [],
   "source": [
    "liste_fleuves = [\"Garonne\", \"Loire\", \"Seine\"]\n",
    "fleuve = liste_fleuves[0]\n",
    "\n",
    "tableau_stations = pd.read_csv(\"../Data/Extraction_Hydro/Stations_\" + fleuve + \".csv\")\n",
    "tableau_stations[\"Cours eau\"] = fleuve\n",
    "\n",
    "mesures = pd.read_csv(\"../Data/Extraction_Hydro/Mesures_\" + fleuve + \".csv\")\n",
    "mesures[\"Date\"] = pd.to_datetime(mesures[\"Date\"], format = \"%Y/%m/%d %H:%M:%S\")\n",
    "\n",
    "for fleuve in liste_fleuves[1:]:\n",
    "    tableau_fleuve = pd.read_csv(\"../Data/Extraction_Hydro/Stations_\" + fleuve + \".csv\")\n",
    "    tableau_fleuve[\"Cours eau\"] = fleuve\n",
    "    tableau_stations = pd.concat([tableau_stations, tableau_fleuve])\n",
    "    \n",
    "    mesures_fleuve = pd.read_csv(\"../Data/Extraction_Hydro/Mesures_\" + fleuve + \".csv\")\n",
    "    mesures_fleuve[\"Date\"] = pd.to_datetime(mesures[\"Date\"], format = \"%Y/%m/%d %H:%M:%S\")\n",
    "    mesures = pd.concat([mesures, mesures_fleuve[tableau_fleuve[\"Code station\"]]], axis=1)"
   ]
  },
  {
   "cell_type": "code",
   "execution_count": 3,
   "metadata": {},
   "outputs": [],
   "source": [
    "tableau_stations.to_csv(\"../Data/Extraction_Hydro/Stations.csv\",\n",
    "                        index = False)\n",
    "mesures.to_csv(\"../Data/Extraction_Hydro/Mesures.csv\",\n",
    "                        index = False)"
   ]
  }
 ],
 "metadata": {
  "kernelspec": {
   "display_name": "Python 3",
   "language": "python",
   "name": "python3"
  },
  "language_info": {
   "codemirror_mode": {
    "name": "ipython",
    "version": 3
   },
   "file_extension": ".py",
   "mimetype": "text/x-python",
   "name": "python",
   "nbconvert_exporter": "python",
   "pygments_lexer": "ipython3",
   "version": "3.7.4"
  }
 },
 "nbformat": 4,
 "nbformat_minor": 4
}
