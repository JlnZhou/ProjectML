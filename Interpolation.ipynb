{
 "cells": [
  {
   "cell_type": "markdown",
   "metadata": {},
   "source": [
    "# Traitement de données pour la régression sur la prédiction d'une seule station"
   ]
  },
  {
   "cell_type": "markdown",
   "metadata": {},
   "source": [
    "## Interpolation\n",
    "\n",
    "Essayer H1700010. Puisque les données de météo SYNOP sont à chaque 3h, et les donnée de débit sont à chaque 2h, on voudrait interpoler les deux données de sortes qu'elles sont tous à chaque 1h. On utilise d'abord l'interpolation linéaire.\n",
    "\n"
   ]
  },
  {
   "cell_type": "code",
   "execution_count": 2,
   "metadata": {},
   "outputs": [],
   "source": [
    "import numpy as np\n",
    "import pandas as pd\n",
    "import datetime\n",
    "import matplotlib.pyplot as plt\n",
    "import os"
   ]
  },
  {
   "cell_type": "code",
   "execution_count": 4,
   "metadata": {},
   "outputs": [],
   "source": [
    "for i in range(10,21):\n",
    "    data = pd.read_csv(\"../Data/Extraction_Hydro/Seine/H1700010_20\"+ str(i) +\".csv\", encoding=\"utf-8\", sep=\";\")\n",
    "    data[\"Date\"]= data[\"Date\"].str.split(pat=\"+\",expand = True)\n",
    "    data = data[[\"Date\",\"Q (m3/s)\"]]\n",
    "    data[\"Date\"]= pd.to_datetime(data[\"Date\"])\n",
    "    data = data.sort_values(by=\"Date\")\n",
    "    data= data.drop_duplicates(\"Date\")\n",
    "    data = data.set_index('Date').resample('1H')\n",
    "    interpolated = data.interpolate(method='linear')\n",
    "    interpolated.to_csv(\"../Data/Extraction_Hydro/Seine/H1700010_20\"+ str(i) +\"_ip.csv\", header = True)"
   ]
  },
  {
   "cell_type": "code",
   "execution_count": 33,
   "metadata": {},
   "outputs": [],
   "source": [
    "filepaths = [\"../Data/Extraction_Hydro/Seine/H1700010_20\"+ str(i) +\"_ip.csv\" for i in range(10,20)]\n",
    "data = pd.concat(map(pd.read_csv, filepaths))\n",
    "#data.to_csv(\"../Data/Extraction_Hydro/Seine/H1700010_ip.csv\", header = True)"
   ]
  },
  {
   "cell_type": "markdown",
   "metadata": {},
   "source": [
    "Il me semble que les données de 2020 sont les mêmes que 2019, du coup je n'ai pas utilisé 2020.\n",
    "\n",
    "Ensuite on ajoute les données de débit d'eau d'il y a 1h, 2h, et 3h."
   ]
  },
  {
   "cell_type": "code",
   "execution_count": 37,
   "metadata": {},
   "outputs": [],
   "source": [
    "data.columns= [\"Date\",\"Q\"]\n",
    "data[\"Q-1\"] = data[\"Q\"].shift()\n",
    "data[\"Q-2\"] = data[\"Q\"].shift(periods=2)\n",
    "data[\"Q-3\"] = data[\"Q\"].shift(periods=3)"
   ]
  },
  {
   "cell_type": "markdown",
   "metadata": {},
   "source": [
    "How to fill NaN on the first lines?"
   ]
  },
  {
   "cell_type": "code",
   "execution_count": 38,
   "metadata": {},
   "outputs": [
    {
     "data": {
      "text/html": [
       "<div>\n",
       "<style scoped>\n",
       "    .dataframe tbody tr th:only-of-type {\n",
       "        vertical-align: middle;\n",
       "    }\n",
       "\n",
       "    .dataframe tbody tr th {\n",
       "        vertical-align: top;\n",
       "    }\n",
       "\n",
       "    .dataframe thead th {\n",
       "        text-align: right;\n",
       "    }\n",
       "</style>\n",
       "<table border=\"1\" class=\"dataframe\">\n",
       "  <thead>\n",
       "    <tr style=\"text-align: right;\">\n",
       "      <th></th>\n",
       "      <th>Date</th>\n",
       "      <th>Q</th>\n",
       "      <th>Q-1</th>\n",
       "      <th>Q-2</th>\n",
       "      <th>Q-3</th>\n",
       "    </tr>\n",
       "  </thead>\n",
       "  <tbody>\n",
       "    <tr>\n",
       "      <th>0</th>\n",
       "      <td>2010-01-01 00:00:00</td>\n",
       "      <td>55.8</td>\n",
       "      <td>NaN</td>\n",
       "      <td>NaN</td>\n",
       "      <td>NaN</td>\n",
       "    </tr>\n",
       "    <tr>\n",
       "      <th>1</th>\n",
       "      <td>2010-01-01 01:00:00</td>\n",
       "      <td>56.2</td>\n",
       "      <td>55.8</td>\n",
       "      <td>NaN</td>\n",
       "      <td>NaN</td>\n",
       "    </tr>\n",
       "    <tr>\n",
       "      <th>2</th>\n",
       "      <td>2010-01-01 02:00:00</td>\n",
       "      <td>56.6</td>\n",
       "      <td>56.2</td>\n",
       "      <td>55.8</td>\n",
       "      <td>NaN</td>\n",
       "    </tr>\n",
       "    <tr>\n",
       "      <th>3</th>\n",
       "      <td>2010-01-01 03:00:00</td>\n",
       "      <td>57.0</td>\n",
       "      <td>56.6</td>\n",
       "      <td>56.2</td>\n",
       "      <td>55.8</td>\n",
       "    </tr>\n",
       "    <tr>\n",
       "      <th>4</th>\n",
       "      <td>2010-01-01 04:00:00</td>\n",
       "      <td>57.4</td>\n",
       "      <td>57.0</td>\n",
       "      <td>56.6</td>\n",
       "      <td>56.2</td>\n",
       "    </tr>\n",
       "    <tr>\n",
       "      <th>...</th>\n",
       "      <td>...</td>\n",
       "      <td>...</td>\n",
       "      <td>...</td>\n",
       "      <td>...</td>\n",
       "      <td>...</td>\n",
       "    </tr>\n",
       "    <tr>\n",
       "      <th>8754</th>\n",
       "      <td>2019-12-31 18:00:00</td>\n",
       "      <td>186.0</td>\n",
       "      <td>185.5</td>\n",
       "      <td>185.0</td>\n",
       "      <td>184.5</td>\n",
       "    </tr>\n",
       "    <tr>\n",
       "      <th>8755</th>\n",
       "      <td>2019-12-31 19:00:00</td>\n",
       "      <td>186.5</td>\n",
       "      <td>186.0</td>\n",
       "      <td>185.5</td>\n",
       "      <td>185.0</td>\n",
       "    </tr>\n",
       "    <tr>\n",
       "      <th>8756</th>\n",
       "      <td>2019-12-31 20:00:00</td>\n",
       "      <td>187.0</td>\n",
       "      <td>186.5</td>\n",
       "      <td>186.0</td>\n",
       "      <td>185.5</td>\n",
       "    </tr>\n",
       "    <tr>\n",
       "      <th>8757</th>\n",
       "      <td>2019-12-31 21:00:00</td>\n",
       "      <td>189.0</td>\n",
       "      <td>187.0</td>\n",
       "      <td>186.5</td>\n",
       "      <td>186.0</td>\n",
       "    </tr>\n",
       "    <tr>\n",
       "      <th>8758</th>\n",
       "      <td>2019-12-31 22:00:00</td>\n",
       "      <td>191.0</td>\n",
       "      <td>189.0</td>\n",
       "      <td>187.0</td>\n",
       "      <td>186.5</td>\n",
       "    </tr>\n",
       "  </tbody>\n",
       "</table>\n",
       "<p>87638 rows × 5 columns</p>\n",
       "</div>"
      ],
      "text/plain": [
       "                     Date      Q    Q-1    Q-2    Q-3\n",
       "0     2010-01-01 00:00:00   55.8    NaN    NaN    NaN\n",
       "1     2010-01-01 01:00:00   56.2   55.8    NaN    NaN\n",
       "2     2010-01-01 02:00:00   56.6   56.2   55.8    NaN\n",
       "3     2010-01-01 03:00:00   57.0   56.6   56.2   55.8\n",
       "4     2010-01-01 04:00:00   57.4   57.0   56.6   56.2\n",
       "...                   ...    ...    ...    ...    ...\n",
       "8754  2019-12-31 18:00:00  186.0  185.5  185.0  184.5\n",
       "8755  2019-12-31 19:00:00  186.5  186.0  185.5  185.0\n",
       "8756  2019-12-31 20:00:00  187.0  186.5  186.0  185.5\n",
       "8757  2019-12-31 21:00:00  189.0  187.0  186.5  186.0\n",
       "8758  2019-12-31 22:00:00  191.0  189.0  187.0  186.5\n",
       "\n",
       "[87638 rows x 5 columns]"
      ]
     },
     "execution_count": 38,
     "metadata": {},
     "output_type": "execute_result"
    }
   ],
   "source": [
    "data"
   ]
  },
  {
   "cell_type": "code",
   "execution_count": 39,
   "metadata": {},
   "outputs": [],
   "source": [
    "for i in range(1,13):\n",
    "    meteo = pd.read_csv(\"../Data/meteo/\"+ str(i) +\".csv\")\n",
    "    data=pd.merge(data,meteo)\n",
    "    data.rename(columns={'Température': 'Temp'+str(i),\n",
    "                   'Précipitations dans la dernière heure': 'Prec'+str(i),\n",
    "                  'Précipitations dans les 3 dernières heures':'Prec3h'+str(i)},\n",
    "          inplace=True, errors='raise')"
   ]
  },
  {
   "cell_type": "code",
   "execution_count": 40,
   "metadata": {},
   "outputs": [],
   "source": [
    "data.to_csv('../Data/meteo/H1700010_bind.csv', header = True)"
   ]
  }
 ],
 "metadata": {
  "kernelspec": {
   "display_name": "Python 3",
   "language": "python",
   "name": "python3"
  },
  "language_info": {
   "codemirror_mode": {
    "name": "ipython",
    "version": 3
   },
   "file_extension": ".py",
   "mimetype": "text/x-python",
   "name": "python",
   "nbconvert_exporter": "python",
   "pygments_lexer": "ipython3",
   "version": "3.7.3"
  }
 },
 "nbformat": 4,
 "nbformat_minor": 2
}
