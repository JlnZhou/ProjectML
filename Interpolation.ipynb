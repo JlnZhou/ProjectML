{
 "cells": [
  {
   "cell_type": "markdown",
   "metadata": {},
   "source": [
    "## Interpolation\n",
    "\n",
    "Essayer H1700010. Puisque les données de météo SYNOP sont à chaque 3h, et les donnée de débit sont à chaque 2h, on voudrait interpoler les deux données de sortes qu'elles sont tous à chaque 1h. On utilise d'abord l'interpolation linéaire.\n",
    "\n"
   ]
  },
  {
   "cell_type": "code",
   "execution_count": null,
   "metadata": {},
   "outputs": [],
   "source": [
    "import numpy as np\n",
    "import pandas as pd\n",
    "import geopandas as gpd\n",
    "import datetime\n",
    "import matplotlib.pyplot as plt"
   ]
  },
  {
   "cell_type": "code",
   "execution_count": null,
   "metadata": {},
   "outputs": [],
   "source": [
    "for i in range(10,21):\n",
    "    data = pd.read_csv(\"../Data/Extraction_Hydro/Seine/H1700010_20\"+ str(i) +\".csv\", encoding=\"utf-8\", sep=\";\")\n",
    "    data[\"Date\"]= data[\"Date\"].str.split(pat=\"+\",expand = True)\n",
    "\n",
    "    meteo[\"Date\"]= pd.to_datetime(meteo[\"Date\"])\n",
    "    meteo = meteo.sort_values(by=\"Date\")\n",
    "    meteo= meteo.drop_duplicates(\"Date\")\n",
    "    meteo = meteo.set_index('Date').resample('1H')\n",
    "    interpolated = meteo.interpolate(method='linear')\n",
    "    interpolated.to_csv(str(i)+\".csv\", header = True)"
   ]
  }
 ],
 "metadata": {
  "kernelspec": {
   "display_name": "Python 3",
   "language": "python",
   "name": "python3"
  },
  "language_info": {
   "codemirror_mode": {
    "name": "ipython",
    "version": 3
   },
   "file_extension": ".py",
   "mimetype": "text/x-python",
   "name": "python",
   "nbconvert_exporter": "python",
   "pygments_lexer": "ipython3",
   "version": "3.7.3"
  }
 },
 "nbformat": 4,
 "nbformat_minor": 2
}
