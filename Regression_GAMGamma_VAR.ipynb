{
 "cells": [
  {
   "cell_type": "markdown",
   "id": "75f8088e-2b2e-49ad-b8b2-41bb20a2577d",
   "metadata": {},
   "source": [
    "Modele autoregressif vectoriel après désaisonnalisation avec un GAM et 10 noeuds"
   ]
  },
  {
   "cell_type": "code",
   "execution_count": 1,
   "id": "2ffb8508-af80-4313-b2a0-9ecc9750fc36",
   "metadata": {},
   "outputs": [],
   "source": [
    "import pandas as pd\n",
    "import numpy as np\n",
    "import matplotlib.pyplot as plt\n",
    "from tqdm import tqdm\n",
    "from matplotlib import cm\n",
    "from matplotlib.colors import ListedColormap"
   ]
  },
  {
   "cell_type": "code",
   "execution_count": 2,
   "id": "7448cbca-abe4-4367-aa47-fa9cbcdcb30c",
   "metadata": {},
   "outputs": [],
   "source": [
    "stations_debit = pd.read_csv(\"../Data/Base/Stations_Debit.csv\")\n",
    "liste_stations = list(stations_debit[\"Code station\"])\n",
    "\n",
    "mesures_train_X = pd.read_csv(\"../Data/Base/Mesures_Train_X.csv\")\n",
    "mesures_train_X[\"Date\"] = pd.to_datetime(mesures_train_X[\"Date\"], format = \"%Y/%m/%d %H:%M:%S\")\n",
    "mesures_train_Y = pd.read_csv(\"../Data/Base/Mesures_Train_Y.csv\")\n",
    "mesures_train_Y[\"Date\"] = pd.to_datetime(mesures_train_Y[\"Date\"], format = \"%Y/%m/%d %H:%M:%S\")\n",
    "\n",
    "train_split_X = pd.read_csv(\"../Data/Base/Index_CV_X.csv\")\n",
    "train_split_Y = pd.read_csv(\"../Data/Base/Index_CV_Y.csv\")\n",
    "\n",
    "mesures_test_X = pd.read_csv(\"../Data/Base/Mesures_Test_X.csv\")\n",
    "mesures_test_X[\"Date\"] = pd.to_datetime(mesures_test_X[\"Date\"], format = \"%Y/%m/%d %H:%M:%S\")\n",
    "mesures_test_Y = pd.read_csv(\"../Data/Base/Mesures_Test_Y.csv\")\n",
    "mesures_test_Y[\"Date\"] = pd.to_datetime(mesures_test_Y[\"Date\"], format = \"%Y/%m/%d %H:%M:%S\")"
   ]
  },
  {
   "cell_type": "code",
   "execution_count": 3,
   "id": "507ec202-a848-446d-9031-4dec0e86e7eb",
   "metadata": {},
   "outputs": [],
   "source": [
    "%run Eval_fcts.py"
   ]
  },
  {
   "cell_type": "markdown",
   "id": "b88accdd-e217-4011-b069-84b930722e2f",
   "metadata": {},
   "source": [
    "# Fonctions"
   ]
  },
  {
   "cell_type": "code",
   "execution_count": 4,
   "id": "151adf12-6898-46a4-bcc3-558272a2596d",
   "metadata": {},
   "outputs": [],
   "source": [
    "%run Regression_GAM_Gamma.py\n",
    "%run Regression_VAR.py"
   ]
  },
  {
   "cell_type": "markdown",
   "id": "8a8ecb0a-7e20-4188-97a8-7ce6d2af24f7",
   "metadata": {},
   "source": [
    "# Selection de modele"
   ]
  },
  {
   "cell_type": "markdown",
   "id": "71d42ee4-4768-4d3a-85be-4e365869e35a",
   "metadata": {},
   "source": [
    "### AIC/BIC"
   ]
  },
  {
   "cell_type": "code",
   "execution_count": 5,
   "id": "73ebe5ad-d9d2-4a17-aedd-0028690a9a76",
   "metadata": {},
   "outputs": [
    {
     "name": "stderr",
     "output_type": "stream",
     "text": [
      "100%|██████████| 15/15 [04:35<00:00, 18.40s/it]\n"
     ]
    },
    {
     "data": {
      "text/html": [
       "<div>\n",
       "<style scoped>\n",
       "    .dataframe tbody tr th:only-of-type {\n",
       "        vertical-align: middle;\n",
       "    }\n",
       "\n",
       "    .dataframe tbody tr th {\n",
       "        vertical-align: top;\n",
       "    }\n",
       "\n",
       "    .dataframe thead th {\n",
       "        text-align: right;\n",
       "    }\n",
       "</style>\n",
       "<table border=\"1\" class=\"dataframe\">\n",
       "  <thead>\n",
       "    <tr style=\"text-align: right;\">\n",
       "      <th></th>\n",
       "      <th>Lag</th>\n",
       "      <th>AIC</th>\n",
       "      <th>BIC</th>\n",
       "    </tr>\n",
       "  </thead>\n",
       "  <tbody>\n",
       "    <tr>\n",
       "      <th>0</th>\n",
       "      <td>1</td>\n",
       "      <td>111.501838</td>\n",
       "      <td>112.694480</td>\n",
       "    </tr>\n",
       "    <tr>\n",
       "      <th>1</th>\n",
       "      <td>2</td>\n",
       "      <td>101.999609</td>\n",
       "      <td>104.341259</td>\n",
       "    </tr>\n",
       "    <tr>\n",
       "      <th>2</th>\n",
       "      <td>3</td>\n",
       "      <td>100.579115</td>\n",
       "      <td>104.070300</td>\n",
       "    </tr>\n",
       "    <tr>\n",
       "      <th>3</th>\n",
       "      <td>4</td>\n",
       "      <td>100.069141</td>\n",
       "      <td>104.710391</td>\n",
       "    </tr>\n",
       "    <tr>\n",
       "      <th>4</th>\n",
       "      <td>5</td>\n",
       "      <td>99.932094</td>\n",
       "      <td>105.723937</td>\n",
       "    </tr>\n",
       "    <tr>\n",
       "      <th>5</th>\n",
       "      <td>6</td>\n",
       "      <td>99.880705</td>\n",
       "      <td>106.823672</td>\n",
       "    </tr>\n",
       "    <tr>\n",
       "      <th>6</th>\n",
       "      <td>7</td>\n",
       "      <td>99.895046</td>\n",
       "      <td>107.989665</td>\n",
       "    </tr>\n",
       "    <tr>\n",
       "      <th>7</th>\n",
       "      <td>8</td>\n",
       "      <td>99.953015</td>\n",
       "      <td>109.199818</td>\n",
       "    </tr>\n",
       "    <tr>\n",
       "      <th>8</th>\n",
       "      <td>9</td>\n",
       "      <td>100.005336</td>\n",
       "      <td>110.404852</td>\n",
       "    </tr>\n",
       "    <tr>\n",
       "      <th>9</th>\n",
       "      <td>10</td>\n",
       "      <td>100.112134</td>\n",
       "      <td>111.664895</td>\n",
       "    </tr>\n",
       "    <tr>\n",
       "      <th>10</th>\n",
       "      <td>11</td>\n",
       "      <td>100.199167</td>\n",
       "      <td>112.905704</td>\n",
       "    </tr>\n",
       "    <tr>\n",
       "      <th>11</th>\n",
       "      <td>12</td>\n",
       "      <td>100.300784</td>\n",
       "      <td>114.161629</td>\n",
       "    </tr>\n",
       "    <tr>\n",
       "      <th>12</th>\n",
       "      <td>13</td>\n",
       "      <td>100.363135</td>\n",
       "      <td>115.378820</td>\n",
       "    </tr>\n",
       "    <tr>\n",
       "      <th>13</th>\n",
       "      <td>14</td>\n",
       "      <td>100.418907</td>\n",
       "      <td>116.589964</td>\n",
       "    </tr>\n",
       "    <tr>\n",
       "      <th>14</th>\n",
       "      <td>15</td>\n",
       "      <td>100.466961</td>\n",
       "      <td>117.793924</td>\n",
       "    </tr>\n",
       "  </tbody>\n",
       "</table>\n",
       "</div>"
      ],
      "text/plain": [
       "    Lag         AIC         BIC\n",
       "0     1  111.501838  112.694480\n",
       "1     2  101.999609  104.341259\n",
       "2     3  100.579115  104.070300\n",
       "3     4  100.069141  104.710391\n",
       "4     5   99.932094  105.723937\n",
       "5     6   99.880705  106.823672\n",
       "6     7   99.895046  107.989665\n",
       "7     8   99.953015  109.199818\n",
       "8     9  100.005336  110.404852\n",
       "9    10  100.112134  111.664895\n",
       "10   11  100.199167  112.905704\n",
       "11   12  100.300784  114.161629\n",
       "12   13  100.363135  115.378820\n",
       "13   14  100.418907  116.589964\n",
       "14   15  100.466961  117.793924"
      ]
     },
     "execution_count": 5,
     "metadata": {},
     "output_type": "execute_result"
    }
   ],
   "source": [
    "n_knots = 10\n",
    "\n",
    "aic_scores = []\n",
    "bic_scores = []\n",
    "for curr_p in tqdm(range(1, 16)):\n",
    "    spline_fit = fct_Regression_SplineGamma_fit(mesures_train_X, liste_stations, n_knots)\n",
    "    mesures_train_X_residus = fct_Regression_SplineGamma_residus(spline_fit, mesures_train_X, liste_stations)\n",
    "    model_VAR = VAR(mesures_train_X_residus[liste_stations])\n",
    "    fit_VAR = model_VAR.fit(curr_p)\n",
    "    \n",
    "    aic_scores.append(fit_VAR.aic)\n",
    "    bic_scores.append(fit_VAR.bic)\n",
    "scores = pd.DataFrame({\"Lag\": range(1, 16), \"AIC\": aic_scores, \"BIC\": bic_scores})\n",
    "scores"
   ]
  },
  {
   "cell_type": "code",
   "execution_count": 6,
   "id": "d2586a55-0451-4ad9-940b-58d100a74d7e",
   "metadata": {},
   "outputs": [],
   "source": [
    "scores.to_csv(\"../Data/GAMGamma_VAR/AIC_BIC_scores.csv\",\n",
    "              index=False)"
   ]
  },
  {
   "cell_type": "code",
   "execution_count": 7,
   "id": "a59f48ed-c3e3-41f3-9f90-c5a9b0908a11",
   "metadata": {},
   "outputs": [
    {
     "data": {
      "text/plain": [
       "<matplotlib.legend.Legend at 0x20bc5d00408>"
      ]
     },
     "execution_count": 7,
     "metadata": {},
     "output_type": "execute_result"
    },
    {
     "data": {
      "image/png": "[encoded data removed]",
      "text/plain": [
       "<Figure size 432x288 with 1 Axes>"
      ]
     },
     "metadata": {
      "needs_background": "light"
     },
     "output_type": "display_data"
    }
   ],
   "source": [
    "plt.plot(scores[\"AIC\"], label = \"AIC\")\n",
    "plt.plot(scores[\"BIC\"], label = \"BIC\")\n",
    "plt.legend()"
   ]
  },
  {
   "cell_type": "markdown",
   "id": "aaaaf1ea-6612-4956-a34f-78fdbb4f7b70",
   "metadata": {},
   "source": [
    "### Validation croisée"
   ]
  },
  {
   "cell_type": "code",
   "execution_count": null,
   "id": "85a50be4-89aa-4808-a85e-8f5e6496a08e",
   "metadata": {},
   "outputs": [
    {
     "name": "stderr",
     "output_type": "stream",
     "text": [
      "  0%|          | 0/7 [00:00<?, ?it/s]"
     ]
    }
   ],
   "source": [
    "n_knots = 10\n",
    "\n",
    "for curr_p in tqdm(range(1,8)):\n",
    "    cv_scores_RMSE = pd.DataFrame({\"Code station\": liste_stations})\n",
    "    cv_scores_MAE = pd.DataFrame({\"Code station\": liste_stations})\n",
    "    cv_scores_R2 = pd.DataFrame({\"Code station\": liste_stations})\n",
    "    \n",
    "    for curr_split in range(9):\n",
    "        \n",
    "        # Entraintement\n",
    "        curr_train_X = mesures_train_X[train_split_X[\"Train_\" + str(curr_split)]]\n",
    "        curr_train_Y = mesures_train_Y[train_split_Y[\"Train_\" + str(curr_split)]]\n",
    "\n",
    "        spline_fit = fct_Regression_SplineGamma_fit(curr_train_X, liste_stations, n_knots)\n",
    "        mesures_train_X_residus = fct_Regression_SplineGamma_residus(spline_fit, curr_train_X, liste_stations)\n",
    "        model_VAR = VAR(mesures_train_X_residus[liste_stations])\n",
    "        fit_VAR = model_VAR.fit(curr_p)\n",
    "\n",
    "        # Prédictions\n",
    "        curr_test_X = mesures_train_X[train_split_X[\"Test_\" + str(curr_split)]]\n",
    "        curr_test_X_residus = fct_Regression_SplineGamma_residus(spline_fit, curr_test_X, liste_stations)\n",
    "        curr_test_Y = mesures_train_Y[train_split_Y[\"Test_\" + str(curr_split)]]\n",
    "        liste_dates = curr_test_Y[\"Date\"]\n",
    "        predictions_Y_residus = fct_Regression_VAR_predict(curr_test_X_residus, fit_VAR, curr_p, liste_dates, liste_stations)\n",
    "        # On rajoute la compo saisonnalité\n",
    "        predictions_Y_saisonnalite = fct_Regression_SplineGamma_predict(spline_fit, liste_dates, liste_stations)\n",
    "        predictions_Y = predictions_Y_residus[[\"Date\"]].copy()\n",
    "        for code in liste_stations:\n",
    "            predictions_Y[code] = predictions_Y_residus[code].values + predictions_Y_saisonnalite[code].values\n",
    "            \n",
    "        # Scores\n",
    "        curr_RMSE = fct_RMSE(curr_test_Y, predictions_Y, liste_stations)\n",
    "        cv_scores_RMSE[\"Split_\" + str(curr_split)] = curr_RMSE[\"RMSE\"].values\n",
    "        curr_MAE = fct_MAE(curr_test_Y, predictions_Y, liste_stations)\n",
    "        cv_scores_MAE[\"Split_\" + str(curr_split)] = curr_MAE[\"MAE\"].values\n",
    "        curr_R2 = fct_R2(curr_test_Y, predictions_Y, liste_stations)\n",
    "        cv_scores_R2[\"Split_\" + str(curr_split)] = curr_R2[\"R2\"].values\n",
    "\n",
    "    cv_moyen_RMSE = []\n",
    "    cv_moyen_MAE = []\n",
    "    cv_moyen_R2 = []\n",
    "\n",
    "    for code in liste_stations:\n",
    "        score_RMSE = np.mean(cv_scores_RMSE[cv_scores_RMSE[\"Code station\"] == code][[\"Split_\" + str(i) for i in range(9)]].iloc[0,:])\n",
    "        cv_moyen_RMSE.append(score_RMSE)\n",
    "        score_MAE = np.mean(cv_scores_MAE[cv_scores_MAE[\"Code station\"] == code][[\"Split_\" + str(i) for i in range(9)]].iloc[0,:])\n",
    "        cv_moyen_MAE.append(score_MAE)\n",
    "        score_R2 = np.mean(cv_scores_R2[cv_scores_R2[\"Code station\"] == code][[\"Split_\" + str(i) for i in range(9)]].iloc[0,:])\n",
    "        cv_moyen_R2.append(score_R2)\n",
    "\n",
    "    cv_scores_RMSE[\"Moyenne\"] = cv_moyen_RMSE\n",
    "    cv_scores_RMSE.to_csv(\"../Data/GAMGamma_VAR/CV_RMSE_p_\" + str(curr_p).rjust(2, \"0\") + \".csv\",\n",
    "                          index=False)\n",
    "    cv_scores_MAE[\"Moyenne\"] = cv_moyen_MAE\n",
    "    cv_scores_MAE.to_csv(\"../Data/GAMGamma_VAR/CV_MAE_p_\" + str(curr_p).rjust(2, \"0\") + \".csv\",\n",
    "                          index=False)\n",
    "    cv_scores_R2[\"Moyenne\"] = cv_moyen_R2\n",
    "    cv_scores_R2.to_csv(\"../Data/GAMGamma_VAR/CV_R2_p_\" + str(curr_p).rjust(2, \"0\") + \".csv\",\n",
    "\n",
    "                        index=False)"
   ]
  },
  {
   "cell_type": "markdown",
   "id": "866ffa0d-bc5d-4b2e-91e4-cdc0462461a3",
   "metadata": {},
   "source": [
    "### Selection modele"
   ]
  },
  {
   "cell_type": "code",
   "execution_count": null,
   "id": "73837774-3545-4e6b-b11e-37a0f9aad75a",
   "metadata": {},
   "outputs": [],
   "source": [
    "n_cours_eau = 3\n",
    "cours_eau = list(np.unique(stations_debit[\"Cours eau\"]))\n",
    "cours_eau_cmap = cm.get_cmap(ListedColormap([\"red\", \"green\", \"blue\"]))\n",
    "cours_eau_couleur = pd.DataFrame({\"Cours eau\": cours_eau, \"Index\": range(n_cours_eau), \"Couleur\": [\"red\", \"green\", \"blue\"]})\n",
    "cours_eau_couleur"
   ]
  },
  {
   "cell_type": "code",
   "execution_count": null,
   "id": "b064510d-88f8-47af-af0d-6b33cf52591c",
   "metadata": {},
   "outputs": [],
   "source": [
    "cv_moyen = pd.DataFrame()\n",
    "\n",
    "for curr_p in range(1, 8):\n",
    "    curr_moyen = {}\n",
    "    cv_scores = pd.read_csv(\"../Data/GAMGamma_VAR/CV_RMSE_p_\" + str(curr_p).rjust(2, \"0\") + \".csv\")\n",
    "    for code in liste_stations:\n",
    "        curr_moyen[code] = list(cv_scores[cv_scores[\"Code station\"] == code][\"Moyenne\"])\n",
    "    curr_moyen = pd.DataFrame(curr_moyen)\n",
    "    curr_moyen[\"Lag\"] = curr_p\n",
    "    cv_moyen = pd.concat([cv_moyen, curr_moyen])\n",
    "    \n",
    "fig, axs = plt.subplots(n_cours_eau, 1, figsize = (15,5))\n",
    "for i in range(n_cours_eau):\n",
    "    stations = list(stations_debit[stations_debit[\"Cours eau\"] == list(cours_eau_couleur[cours_eau_couleur[\"Index\"] == i][\"Cours eau\"])[0]][\"Code station\"])\n",
    "    for code in stations:\n",
    "        axs[i].plot(cv_moyen[\"Lag\"], cv_moyen[code],\n",
    "                   color = cours_eau_cmap(i))\n",
    "plt.show()"
   ]
  },
  {
   "cell_type": "code",
   "execution_count": null,
   "id": "c0f4fa89-8587-4583-ac48-0228fa50f0a5",
   "metadata": {},
   "outputs": [],
   "source": [
    "cv_moyen = pd.DataFrame()\n",
    "\n",
    "for curr_p in range(1, 8):\n",
    "    curr_moyen = {}\n",
    "    cv_scores = pd.read_csv(\"../Data/GAMGamma_VAR/CV_MAE_p_\" + str(curr_p).rjust(2, \"0\") + \".csv\")\n",
    "    for code in liste_stations:\n",
    "        curr_moyen[code] = list(cv_scores[cv_scores[\"Code station\"] == code][\"Moyenne\"])\n",
    "    curr_moyen = pd.DataFrame(curr_moyen)\n",
    "    curr_moyen[\"Lag\"] = curr_p\n",
    "    cv_moyen = pd.concat([cv_moyen, curr_moyen])\n",
    "    \n",
    "fig, axs = plt.subplots(n_cours_eau, 1, figsize = (15,5))\n",
    "for i in range(n_cours_eau):\n",
    "    stations = list(stations_debit[stations_debit[\"Cours eau\"] == list(cours_eau_couleur[cours_eau_couleur[\"Index\"] == i][\"Cours eau\"])[0]][\"Code station\"])\n",
    "    for code in stations:\n",
    "        axs[i].plot(cv_moyen[\"Lag\"], cv_moyen[code],\n",
    "                   color = cours_eau_cmap(i))\n",
    "plt.show()"
   ]
  },
  {
   "cell_type": "code",
   "execution_count": null,
   "id": "47a230d6-af23-4525-8944-7289ce6efe74",
   "metadata": {},
   "outputs": [],
   "source": [
    "cv_moyen = pd.DataFrame()\n",
    "\n",
    "for curr_p in range(1, 8):\n",
    "    curr_moyen = {}\n",
    "    cv_scores = pd.read_csv(\"../Data/GAMGamma_VAR/CV_R2_p_\" + str(curr_p).rjust(2, \"0\") + \".csv\")\n",
    "    for code in liste_stations:\n",
    "        curr_moyen[code] = list(cv_scores[cv_scores[\"Code station\"] == code][\"Moyenne\"])\n",
    "    curr_moyen = pd.DataFrame(curr_moyen)\n",
    "    curr_moyen[\"Lag\"] = curr_p\n",
    "    cv_moyen = pd.concat([cv_moyen, curr_moyen])\n",
    "    \n",
    "fig, axs = plt.subplots(n_cours_eau, 1, figsize = (15,5))\n",
    "for i in range(n_cours_eau):\n",
    "    stations = list(stations_debit[stations_debit[\"Cours eau\"] == list(cours_eau_couleur[cours_eau_couleur[\"Index\"] == i][\"Cours eau\"])[0]][\"Code station\"])\n",
    "    for code in stations:\n",
    "        axs[i].plot(cv_moyen[\"Lag\"], cv_moyen[code],\n",
    "                   color = cours_eau_cmap(i))\n",
    "plt.show()"
   ]
  },
  {
   "cell_type": "markdown",
   "id": "8de1b3db-bda8-40af-8e5a-2df777fc9b87",
   "metadata": {},
   "source": [
    "# Test"
   ]
  },
  {
   "cell_type": "code",
   "execution_count": null,
   "id": "25a9b508-b5e6-4966-a0ab-ed3525398090",
   "metadata": {},
   "outputs": [],
   "source": [
    "p = 2"
   ]
  },
  {
   "cell_type": "code",
   "execution_count": null,
   "id": "7f5578ca-9cec-4f3d-8bb9-289ffb6fee48",
   "metadata": {},
   "outputs": [],
   "source": [
    "# Entrainement\n",
    "spline_fit = fct_Regression_SplineGamma_fit(mesures_test_X, liste_stations, n_knots)\n",
    "mesures_test_X_residus = fct_Regression_SplineGamma_residus(spline_fit, mesures_test_X, liste_stations)\n",
    "model_VAR = VAR(mesures_test_X_residus[liste_stations])\n",
    "fit_VAR = model_VAR.fit(p)\n",
    "\n",
    "# Prédictions\n",
    "liste_dates = mesures_test_Y[\"Date\"]\n",
    "predictions_test_Y_residus = fct_Regression_VAR_predict(mesures_test_X_residus, fit_VAR, curr_p, liste_dates, liste_stations)\n",
    "# On rajoute la compo saisonnalité\n",
    "predictions_test_Y_saisonnalite = fct_Regression_SplineGamma_predict(spline_fit, liste_dates, liste_stations)\n",
    "predictions_test_Y = predictions_test_Y_residus[[\"Date\"]].copy()\n",
    "for code in liste_stations:\n",
    "    predictions_test_Y[code] = predictions_test_Y_residus[code].values + predictions_test_Y_saisonnalite[code].values"
   ]
  },
  {
   "cell_type": "code",
   "execution_count": null,
   "id": "17714d22-695d-4f81-900b-6018e0eeb881",
   "metadata": {},
   "outputs": [],
   "source": [
    "n_stations = len(liste_stations)\n",
    "fig, axs = plt.subplots(n_stations, 1, figsize = (15,30), sharex=True)\n",
    "for i in range(n_stations):\n",
    "    code = liste_stations[i]\n",
    "    axs[i].plot(mesures_test_Y[\"Date\"], mesures_test_Y[code], label = \"True\")\n",
    "    axs[i].plot(predictions_test_Y_saisonnalite[\"Date\"], predictions_test_Y_saisonnalite[code], label = \"Saisonnalite\")\n",
    "    axs[i].plot(predictions_test_Y_residus[\"Date\"], predictions_test_Y_residus[code], label = \"Residus\")\n",
    "    axs[i].plot(predictions_test_Y[\"Date\"], predictions_test_Y[code], label = \"Predictions\")\n",
    "    axs[i].legend()"
   ]
  },
  {
   "cell_type": "code",
   "execution_count": null,
   "id": "9709ddb1-09b9-48ea-8297-eb51ebde016b",
   "metadata": {},
   "outputs": [],
   "source": [
    "scores_rmse = fct_RMSE(mesures_test_Y, predictions_test_Y, liste_stations)\n",
    "scores_mae = fct_MAE(mesures_test_Y, predictions_test_Y, liste_stations)\n",
    "scores_r2 = fct_R2(mesures_test_Y, predictions_test_Y, liste_stations)\n",
    "\n",
    "test_scores = pd.DataFrame({\"Code station\": liste_stations,\n",
    "                            \"RMSE\": scores_rmse[\"RMSE\"],\n",
    "                            \"MAE\": scores_mae[\"MAE\"],\n",
    "                            \"R2\": scores_r2[\"R2\"]})\n",
    "test_scores"
   ]
  },
  {
   "cell_type": "code",
   "execution_count": null,
   "id": "d6181277-9125-47e4-bea0-6ab907cb0a6d",
   "metadata": {},
   "outputs": [],
   "source": [
    "test_scores.to_csv(\"../Data/GAMGamma_VAR/Test_scores.csv\",\n",
    "                   index = False)"
   ]
  },
  {
   "cell_type": "code",
   "execution_count": null,
   "id": "a3a9af5e-0eca-4956-a23b-a82eace07627",
   "metadata": {},
   "outputs": [],
   "source": []
  }
 ],
 "metadata": {
  "kernelspec": {
   "display_name": "Python 3 (ipykernel)",
   "language": "python",
   "name": "python3"
  },
  "language_info": {
   "codemirror_mode": {
    "name": "ipython",
    "version": 3
   },
   "file_extension": ".py",
   "mimetype": "text/x-python",
   "name": "python",
   "nbconvert_exporter": "python",
   "pygments_lexer": "ipython3",
   "version": "3.7.4"
  }
 },
 "nbformat": 4,
 "nbformat_minor": 5
}
