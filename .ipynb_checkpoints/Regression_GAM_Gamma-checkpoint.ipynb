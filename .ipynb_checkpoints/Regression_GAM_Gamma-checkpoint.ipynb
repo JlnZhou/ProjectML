{
 "cells": [
  {
   "cell_type": "markdown",
   "id": "e73c77a1-1713-4b2e-815a-fb19c4089219",
   "metadata": {},
   "source": [
    "Modèle additif, on essaie de capter la composante saisonniere avec une spline cyclique."
   ]
  },
  {
   "cell_type": "code",
   "execution_count": 44,
   "id": "dd1b5aec-9031-4077-ba0d-0edf5ae9ee02",
   "metadata": {},
   "outputs": [],
   "source": [
    "import pandas as pd\n",
    "import numpy as np\n",
    "import matplotlib.pyplot as plt\n",
    "from tqdm import tqdm\n",
    "from matplotlib import cm\n",
    "from matplotlib.colors import ListedColormap\n",
    "\n",
    "from sklearn.preprocessing import SplineTransformer\n",
    "from sklearn.pipeline import make_pipeline\n",
    "from sklearn.linear_model import GammaRegressor"
   ]
  },
  {
   "cell_type": "code",
   "execution_count": 45,
   "id": "2a15d5d6-12c0-4dc5-aafb-c9e8963a0c8f",
   "metadata": {},
   "outputs": [],
   "source": [
    "def fct_scores_mse(Y_true, Y_pred, liste_stations):\n",
    "    \n",
    "    Y_true = Y_true.sort_values(by = [\"Date\"])\n",
    "    Y_pred = Y_pred.sort_values(by = [\"Date\"])\n",
    "    \n",
    "    liste_mse = []\n",
    "    for code in liste_stations:\n",
    "        liste_mse.append(np.mean(np.square(Y_true[code] - Y_pred[code])))\n",
    "    resultat = pd.DataFrame({\"Code station\": liste_stations, \"MSE\": liste_mse})\n",
    "    return resultat"
   ]
  },
  {
   "cell_type": "code",
   "execution_count": 46,
   "id": "c8121be2-f03a-42c5-9beb-fcac6bd4652b",
   "metadata": {},
   "outputs": [],
   "source": [
    "stations_debit = pd.read_csv(\"../Data/Base/Stations_Debit.csv\")\n",
    "liste_stations = list(stations_debit[\"Code station\"])\n",
    "\n",
    "mesures_train_X = pd.read_csv(\"../Data/Base/Mesures_Train_X.csv\")\n",
    "mesures_train_X[\"Date\"] = pd.to_datetime(mesures_train_X[\"Date\"], format = \"%Y/%m/%d %H:%M:%S\")\n",
    "mesures_train_Y = pd.read_csv(\"../Data/Base/Mesures_Train_Y.csv\")\n",
    "mesures_train_Y[\"Date\"] = pd.to_datetime(mesures_train_Y[\"Date\"], format = \"%Y/%m/%d %H:%M:%S\")\n",
    "\n",
    "train_split_X = pd.read_csv(\"../Data/Base/Index_CV_X.csv\")\n",
    "train_split_Y = pd.read_csv(\"../Data/Base/Index_CV_Y.csv\")\n",
    "\n",
    "mesures_test_X = pd.read_csv(\"../Data/Base/Mesures_Test_X.csv\")\n",
    "mesures_test_X[\"Date\"] = pd.to_datetime(mesures_test_X[\"Date\"], format = \"%Y/%m/%d %H:%M:%S\")\n",
    "mesures_test_Y = pd.read_csv(\"../Data/Base/Mesures_Test_Y.csv\")\n",
    "mesures_test_Y[\"Date\"] = pd.to_datetime(mesures_test_Y[\"Date\"], format = \"%Y/%m/%d %H:%M:%S\")"
   ]
  },
  {
   "cell_type": "markdown",
   "id": "54b938b8-2241-48a3-a244-680ed21d70d5",
   "metadata": {},
   "source": [
    "## Fonctions"
   ]
  },
  {
   "cell_type": "markdown",
   "id": "9292ae68-c08d-4a1d-9d05-f8335ec6e6b4",
   "metadata": {
    "tags": []
   },
   "source": [
    "### Calcul de la spline"
   ]
  },
  {
   "cell_type": "code",
   "execution_count": 47,
   "id": "ce023dba-c43a-4260-8490-d8e6f14bc658",
   "metadata": {},
   "outputs": [],
   "source": [
    "def fct_Modele_SplineGamma_fit(mesures_train, liste_stations, n_knots):\n",
    "    ## Fonction pour déterminer les splines cycliques, GAM gamma\n",
    "    # mesures: dataframe X d'entrainement\n",
    "    # n_knots: le nombre de noeuds\n",
    "    \n",
    "    mesures_stations = mesures_train[[\"Date\"] + liste_stations]\n",
    "    # On prend en abscisse le delta de temps par rapport au 01/01 de l'année en cours\n",
    "    mesures_tofit = pd.DataFrame()\n",
    "    liste_annee = np.unique(mesures_stations[\"Date\"].apply(lambda x: x.year))\n",
    "    for curr_annee in liste_annee:\n",
    "        mesures_annee = mesures_stations[mesures_stations[\"Date\"].apply(lambda x: x.year == curr_annee)]\n",
    "        n_mesures = len(mesures_annee)\n",
    "        mesures_annee.index = range(n_mesures)\n",
    "        jour_an = pd.to_datetime(str(curr_annee)+\"/01/01\")\n",
    "        jours_delta = (mesures_annee[\"Date\"] - jour_an).apply(lambda x: x.delta)\n",
    "        jours_delta.index = range(n_mesures)\n",
    "        mesures_annee = pd.concat([mesures_annee, pd.DataFrame({\"Delta\": jours_delta})], axis = 1)\n",
    "        mesures_tofit = pd.concat([mesures_tofit, mesures_annee])\n",
    "    \n",
    "    resultat = pd.DataFrame({\"Delta\": np.unique(mesures_tofit[\"Delta\"])})\n",
    "    # Calcul de la spline\n",
    "    for code in liste_stations:\n",
    "        X = mesures_tofit[[\"Delta\", code]]\n",
    "        spline = SplineTransformer(n_knots=curr_n_knots,\n",
    "                                   extrapolation=\"periodic\")\n",
    "        model = make_pipeline(spline, GammaRegressor(alpha = 0))\n",
    "        model.fit(X[[\"Delta\"]], X[code])\n",
    "        composante = model.predict(resultat[[\"Delta\"]])\n",
    "        composante = pd.DataFrame(composante, columns = [code])\n",
    "        resultat = pd.concat([resultat, composante], axis = 1)\n",
    "    return resultat"
   ]
  },
  {
   "cell_type": "code",
   "execution_count": 48,
   "id": "8ed25caf-a8e7-424d-b85f-3644654e6112",
   "metadata": {},
   "outputs": [],
   "source": [
    "def fct_Modele_SplineGamma_predict(fit, liste_dates, liste_stations):\n",
    "    \n",
    "    # On commence par faire les moyennes journalieres à partir du fit\n",
    "    fit[\"Delta_Jour\"] = pd.to_timedelta(fit[\"Delta\"]).apply(lambda x: x.days)\n",
    "    moyennes_fit = fit[liste_stations].groupby(fit[\"Delta_Jour\"]).mean()\n",
    "    moyennes_fit[\"Delta_Jour\"] = moyennes_fit.index\n",
    "    max_jours = np.max(moyennes_fit[\"Delta_Jour\"])\n",
    "    \n",
    "    # On retourne la bonne valeur\n",
    "    resultat = pd.DataFrame({\"Date\": liste_dates})\n",
    "    liste_annees = np.unique(liste_dates.apply(lambda x: x.year))\n",
    "    predictions = []\n",
    "    for curr_annee in liste_annees:\n",
    "        dates_annee = pd.DataFrame({\"Date\": liste_dates[liste_dates.apply(lambda x: x.year == curr_annee)]})\n",
    "        jour_an = pd.to_datetime(str(curr_annee)+\"/01/01\")\n",
    "        dates_annee[\"Delta_Jour\"] = (dates_annee - jour_an)\n",
    "        dates_annee[\"Delta_Jour\"] = dates_annee[\"Delta_Jour\"].apply(lambda x: x.days)\n",
    "        for index, row in dates_annee.iterrows():\n",
    "            predictions.append(moyennes_fit[moyennes_fit[\"Delta_Jour\"] == row[\"Delta_Jour\"]%(max_jours+1)][liste_stations].iloc[0,:])\n",
    "    resultat[liste_stations] = predictions\n",
    "    return resultat"
   ]
  },
  {
   "cell_type": "markdown",
   "id": "7a18270d-77c7-46c7-b587-82086c48b103",
   "metadata": {},
   "source": [
    "# Validation croisée"
   ]
  },
  {
   "cell_type": "code",
   "execution_count": 49,
   "id": "69ac268a-d426-4b06-b0f8-a3a1eb5487ce",
   "metadata": {},
   "outputs": [
    {
     "name": "stdout",
     "output_type": "stream",
     "text": [
      "N knots: 4\n"
     ]
    },
    {
     "name": "stderr",
     "output_type": "stream",
     "text": [
      "100%|██████████| 9/9 [00:16<00:00,  1.82s/it]\n"
     ]
    },
    {
     "name": "stdout",
     "output_type": "stream",
     "text": [
      "N knots: 5\n"
     ]
    },
    {
     "name": "stderr",
     "output_type": "stream",
     "text": [
      "100%|██████████| 9/9 [00:17<00:00,  1.92s/it]\n"
     ]
    },
    {
     "name": "stdout",
     "output_type": "stream",
     "text": [
      "N knots: 6\n"
     ]
    },
    {
     "name": "stderr",
     "output_type": "stream",
     "text": [
      "100%|██████████| 9/9 [00:18<00:00,  2.00s/it]\n"
     ]
    },
    {
     "name": "stdout",
     "output_type": "stream",
     "text": [
      "N knots: 7\n"
     ]
    },
    {
     "name": "stderr",
     "output_type": "stream",
     "text": [
      "100%|██████████| 9/9 [00:18<00:00,  2.07s/it]\n"
     ]
    },
    {
     "name": "stdout",
     "output_type": "stream",
     "text": [
      "N knots: 8\n"
     ]
    },
    {
     "name": "stderr",
     "output_type": "stream",
     "text": [
      "100%|██████████| 9/9 [00:18<00:00,  2.07s/it]\n"
     ]
    },
    {
     "name": "stdout",
     "output_type": "stream",
     "text": [
      "N knots: 9\n"
     ]
    },
    {
     "name": "stderr",
     "output_type": "stream",
     "text": [
      "100%|██████████| 9/9 [00:21<00:00,  2.35s/it]\n"
     ]
    },
    {
     "name": "stdout",
     "output_type": "stream",
     "text": [
      "N knots: 10\n"
     ]
    },
    {
     "name": "stderr",
     "output_type": "stream",
     "text": [
      "100%|██████████| 9/9 [00:22<00:00,  2.52s/it]\n"
     ]
    },
    {
     "name": "stdout",
     "output_type": "stream",
     "text": [
      "N knots: 11\n"
     ]
    },
    {
     "name": "stderr",
     "output_type": "stream",
     "text": [
      "100%|██████████| 9/9 [00:24<00:00,  2.75s/it]\n"
     ]
    },
    {
     "name": "stdout",
     "output_type": "stream",
     "text": [
      "N knots: 12\n"
     ]
    },
    {
     "name": "stderr",
     "output_type": "stream",
     "text": [
      "100%|██████████| 9/9 [00:23<00:00,  2.65s/it]\n"
     ]
    },
    {
     "name": "stdout",
     "output_type": "stream",
     "text": [
      "N knots: 13\n"
     ]
    },
    {
     "name": "stderr",
     "output_type": "stream",
     "text": [
      "100%|██████████| 9/9 [00:26<00:00,  2.93s/it]\n"
     ]
    },
    {
     "name": "stdout",
     "output_type": "stream",
     "text": [
      "N knots: 14\n"
     ]
    },
    {
     "name": "stderr",
     "output_type": "stream",
     "text": [
      "100%|██████████| 9/9 [00:29<00:00,  3.27s/it]\n"
     ]
    },
    {
     "name": "stdout",
     "output_type": "stream",
     "text": [
      "N knots: 15\n"
     ]
    },
    {
     "name": "stderr",
     "output_type": "stream",
     "text": [
      "100%|██████████| 9/9 [00:31<00:00,  3.51s/it]\n"
     ]
    },
    {
     "name": "stdout",
     "output_type": "stream",
     "text": [
      "N knots: 16\n"
     ]
    },
    {
     "name": "stderr",
     "output_type": "stream",
     "text": [
      "100%|██████████| 9/9 [00:34<00:00,  3.79s/it]\n"
     ]
    },
    {
     "name": "stdout",
     "output_type": "stream",
     "text": [
      "N knots: 17\n"
     ]
    },
    {
     "name": "stderr",
     "output_type": "stream",
     "text": [
      "100%|██████████| 9/9 [00:37<00:00,  4.11s/it]\n"
     ]
    },
    {
     "name": "stdout",
     "output_type": "stream",
     "text": [
      "N knots: 18\n"
     ]
    },
    {
     "name": "stderr",
     "output_type": "stream",
     "text": [
      "100%|██████████| 9/9 [00:39<00:00,  4.41s/it]\n"
     ]
    },
    {
     "name": "stdout",
     "output_type": "stream",
     "text": [
      "N knots: 19\n"
     ]
    },
    {
     "name": "stderr",
     "output_type": "stream",
     "text": [
      "100%|██████████| 9/9 [00:40<00:00,  4.47s/it]\n"
     ]
    },
    {
     "name": "stdout",
     "output_type": "stream",
     "text": [
      "N knots: 20\n"
     ]
    },
    {
     "name": "stderr",
     "output_type": "stream",
     "text": [
      "100%|██████████| 9/9 [00:42<00:00,  4.69s/it]\n"
     ]
    },
    {
     "name": "stdout",
     "output_type": "stream",
     "text": [
      "N knots: 21\n"
     ]
    },
    {
     "name": "stderr",
     "output_type": "stream",
     "text": [
      "100%|██████████| 9/9 [00:42<00:00,  4.69s/it]\n"
     ]
    },
    {
     "name": "stdout",
     "output_type": "stream",
     "text": [
      "N knots: 22\n"
     ]
    },
    {
     "name": "stderr",
     "output_type": "stream",
     "text": [
      "100%|██████████| 9/9 [00:43<00:00,  4.79s/it]\n"
     ]
    },
    {
     "name": "stdout",
     "output_type": "stream",
     "text": [
      "N knots: 23\n"
     ]
    },
    {
     "name": "stderr",
     "output_type": "stream",
     "text": [
      "100%|██████████| 9/9 [00:43<00:00,  4.79s/it]\n"
     ]
    },
    {
     "name": "stdout",
     "output_type": "stream",
     "text": [
      "N knots: 24\n"
     ]
    },
    {
     "name": "stderr",
     "output_type": "stream",
     "text": [
      "100%|██████████| 9/9 [00:37<00:00,  4.20s/it]\n"
     ]
    },
    {
     "name": "stdout",
     "output_type": "stream",
     "text": [
      "N knots: 25\n"
     ]
    },
    {
     "name": "stderr",
     "output_type": "stream",
     "text": [
      "100%|██████████| 9/9 [00:37<00:00,  4.18s/it]\n"
     ]
    }
   ],
   "source": [
    "max_n_knots = 25\n",
    "\n",
    "for curr_n_knots in range(4, max_n_knots+1):\n",
    "    print(\"N knots: \" + str(curr_n_knots))\n",
    "    cv_scores = pd.DataFrame({\"Code station\": liste_stations})\n",
    "    for curr_split in tqdm(range(9)):\n",
    "        \n",
    "        # Entraintement\n",
    "        curr_train_X = mesures_train_X[train_split_X[\"Train_\" + str(curr_split)]]\n",
    "        curr_train_Y = mesures_train_Y[train_split_Y[\"Train_\" + str(curr_split)]]\n",
    "    \n",
    "        spline_fit = fct_Modele_SplineGamma_fit(curr_train_X, liste_stations, curr_n_knots)\n",
    "\n",
    "        # Prédictions\n",
    "        curr_test_X = mesures_train_X[train_split_X[\"Test_\" + str(curr_split)]]\n",
    "        curr_test_Y = mesures_train_Y[train_split_Y[\"Test_\" + str(curr_split)]]\n",
    "        liste_dates = curr_test_Y[\"Date\"]\n",
    "        \n",
    "        predictions_Y = fct_Modele_SplineGamma_predict(spline_fit, liste_dates, liste_stations)\n",
    "        # Score\n",
    "        curr_scores = fct_scores_mse(curr_test_Y, predictions_Y, liste_stations)\n",
    "        cv_scores[\"Split_\" + str(curr_split)] = curr_scores[\"MSE\"]\n",
    "\n",
    "    cv_moyen = []\n",
    "    for code in liste_stations:\n",
    "        score = np.mean(cv_scores[cv_scores[\"Code station\"] == code][[\"Split_\" + str(i) for i in range(9)]].iloc[0,:])\n",
    "        cv_moyen.append(score)    \n",
    "    cv_scores[\"Moyenne\"] = cv_moyen\n",
    "    cv_scores.to_csv(\"../Data/GAM_Gamma/cv_n_knots_\" + str(curr_n_knots).rjust(2, \"0\") + \".csv\",\n",
    "                     index=False)  "
   ]
  },
  {
   "cell_type": "code",
   "execution_count": 50,
   "id": "5546e58d-7998-44dc-8b36-dfb7018cd543",
   "metadata": {},
   "outputs": [],
   "source": [
    "cv_moyen = pd.DataFrame()\n",
    "\n",
    "cv_Naif = pd.read_csv(\"../Data/Naif/CV_scores.csv\")\n",
    "curr_moyen = pd.DataFrame()\n",
    "for code in liste_stations:\n",
    "    curr_moyen[code] = list(cv_Naif[cv_Naif[\"Code station\"] == code][\"Moyenne\"])\n",
    "curr_moyen[\"Noeuds\"] = 0\n",
    "cv_moyen = pd.concat([cv_moyen, curr_moyen])\n",
    "\n",
    "for curr_n_knots in range(4, max_n_knots+1):\n",
    "    curr_moyen = {}\n",
    "    cv_scores = pd.read_csv(\"../Data/Spline/cv_n_knots_\" + str(curr_n_knots).rjust(2, \"0\") + \".csv\")\n",
    "    for code in liste_stations:\n",
    "        curr_moyen[code] = list(cv_scores[cv_scores[\"Code station\"] == code][\"Moyenne\"])\n",
    "    curr_moyen = pd.DataFrame(curr_moyen)\n",
    "    curr_moyen[\"Noeuds\"] = curr_n_knots\n",
    "    cv_moyen = pd.concat([cv_moyen, curr_moyen])"
   ]
  },
  {
   "cell_type": "code",
   "execution_count": null,
   "id": "348676cd-603a-4008-85a6-a88db3ba5311",
   "metadata": {},
   "outputs": [],
   "source": [
    "n_cours_eau = 3\n",
    "cours_eau = list(np.unique(stations_debit[\"Cours eau\"]))\n",
    "cours_eau_cmap = cm.get_cmap(ListedColormap([\"red\", \"green\", \"blue\"]))\n",
    "cours_eau_couleur = pd.DataFrame({\"Cours eau\": cours_eau, \"Index\": range(n_cours_eau), \"Couleur\": [\"red\", \"green\", \"blue\"]})\n",
    "cours_eau_couleur"
   ]
  },
  {
   "cell_type": "code",
   "execution_count": null,
   "id": "f84dd6c6-abc0-4993-9c03-73cf089cd894",
   "metadata": {},
   "outputs": [],
   "source": [
    "fig, axs = plt.subplots(n_cours_eau, 1, figsize = (15,15))\n",
    "for i in range(n_cours_eau):\n",
    "    stations = list(stations_debit[stations_debit[\"Cours eau\"] == list(cours_eau_couleur[cours_eau_couleur[\"Index\"] == i][\"Cours eau\"])[0]][\"Code station\"])\n",
    "    for code in stations:\n",
    "        axs[i].plot(cv_moyen[\"Noeuds\"], cv_moyen[code]/cv_moyen[code].iloc[0],\n",
    "                   color = cours_eau_cmap(i))\n",
    "plt.show()"
   ]
  },
  {
   "cell_type": "markdown",
   "id": "cebd5233-d62c-43f0-b337-f8c1728a739d",
   "metadata": {},
   "source": [
    "# Test"
   ]
  },
  {
   "cell_type": "code",
   "execution_count": null,
   "id": "d6aa0a14-f86a-4f81-b8cb-7b0936c1196a",
   "metadata": {},
   "outputs": [],
   "source": [
    "n_knots = 4"
   ]
  },
  {
   "cell_type": "code",
   "execution_count": null,
   "id": "612e80f1-b2ce-4c2e-be7b-d35e91d3de60",
   "metadata": {},
   "outputs": [],
   "source": [
    "liste_dates = mesures_test_Y[\"Date\"]\n",
    "spline_fit = fct_Modele_Spline_fit(mesures_test_X, liste_stations, n_knots)\n",
    "predictions_test_Y = fct_Modele_Spline_predict(spline_fit, liste_dates, liste_stations)\n",
    "test_scores = fct_scores_mse(mesures_test_Y, predictions_test_Y, liste_stations)"
   ]
  },
  {
   "cell_type": "code",
   "execution_count": null,
   "id": "249989f3-dae6-48ed-96b0-363aa790b4db",
   "metadata": {},
   "outputs": [],
   "source": [
    "test_scores"
   ]
  },
  {
   "cell_type": "code",
   "execution_count": null,
   "id": "1673fbdb-197e-4f30-b7d1-9255ec704ce4",
   "metadata": {},
   "outputs": [],
   "source": [
    "n_stations = len(liste_stations)\n",
    "fig, axs = plt.subplots(n_stations, 1, figsize = (15,30), sharex=True)\n",
    "for i in range(n_stations):\n",
    "    code = liste_stations[i]\n",
    "    axs[i].plot(mesures_test_Y[code], label = \"True\")\n",
    "    axs[i].plot(predictions_test_Y[code], label = \"Predictions\")\n",
    "    axs[i].legend()"
   ]
  }
 ],
 "metadata": {
  "kernelspec": {
   "display_name": "Python 3 (ipykernel)",
   "language": "python",
   "name": "python3"
  },
  "language_info": {
   "codemirror_mode": {
    "name": "ipython",
    "version": 3
   },
   "file_extension": ".py",
   "mimetype": "text/x-python",
   "name": "python",
   "nbconvert_exporter": "python",
   "pygments_lexer": "ipython3",
   "version": "3.7.4"
  }
 },
 "nbformat": 4,
 "nbformat_minor": 5
}
