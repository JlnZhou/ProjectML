{
 "cells": [
  {
   "cell_type": "markdown",
   "id": "9d5b0b29-f218-42be-ad49-250258fa3f5c",
   "metadata": {},
   "source": [
    "On rajoute les données meteo"
   ]
  },
  {
   "cell_type": "code",
   "execution_count": 1,
   "id": "0ade40bd-d76a-496b-a920-9cf77202eb2d",
   "metadata": {},
   "outputs": [],
   "source": [
    "import pandas as pd\n",
    "import numpy as np\n",
    "import matplotlib.pyplot as plt\n",
    "from tqdm import tqdm\n",
    "from matplotlib import cm\n",
    "from matplotlib.colors import ListedColormap\n",
    "\n",
    "from sklearn.ensemble import RandomForestRegressor"
   ]
  },
  {
   "cell_type": "code",
   "execution_count": 2,
   "id": "46710d7f-b791-41d9-8e44-3e5b41f8d551",
   "metadata": {},
   "outputs": [],
   "source": [
    "stations_debit = pd.read_csv(\"../Data/Base/Stations_Debit.csv\")\n",
    "liste_stations_debit = list(stations_debit[\"Code station\"])\n",
    "\n",
    "mesures_train_X = pd.read_csv(\"../Data/Base/Mesures_Train_X.csv\")\n",
    "mesures_train_X[\"Date\"] = pd.to_datetime(mesures_train_X[\"Date\"], format = \"%Y/%m/%d %H:%M:%S\")\n",
    "mesures_train_Y = pd.read_csv(\"../Data/Base/Mesures_Train_Y.csv\")\n",
    "mesures_train_Y[\"Date\"] = pd.to_datetime(mesures_train_Y[\"Date\"], format = \"%Y/%m/%d %H:%M:%S\")\n",
    "\n",
    "train_split_X = pd.read_csv(\"../Data/Base/Index_CV_X.csv\")\n",
    "train_split_Y = pd.read_csv(\"../Data/Base/Index_CV_Y.csv\")\n",
    "\n",
    "mesures_test_X = pd.read_csv(\"../Data/Base/Mesures_Test_X.csv\")\n",
    "mesures_test_X[\"Date\"] = pd.to_datetime(mesures_test_X[\"Date\"], format = \"%Y/%m/%d %H:%M:%S\")\n",
    "mesures_test_Y = pd.read_csv(\"../Data/Base/Mesures_Test_Y.csv\")\n",
    "mesures_test_Y[\"Date\"] = pd.to_datetime(mesures_test_Y[\"Date\"], format = \"%Y/%m/%d %H:%M:%S\")"
   ]
  },
  {
   "cell_type": "code",
   "execution_count": 3,
   "id": "b8752eee-0b85-4a1f-9781-d7b6d3d9e915",
   "metadata": {},
   "outputs": [],
   "source": [
    "stations_meteo = pd.read_csv(\"../Data/Base/Stations_Meteo.csv\")\n",
    "liste_stations_meteo = list(stations_meteo[\"ID\"].apply(lambda x: str(x).rjust(5, \"0\")))\n",
    "colonnes_meteo = [\"Pression\", \"Vent_Nord\", \"Vent_Est\", \"Vitesse_vent\", \"Temperature\", \"Humidite\", \"Precipitations\"]\n",
    "tempo = []\n",
    "for code in liste_stations_meteo:\n",
    "    tempo += [tp + \"_\" + code for tp in colonnes_meteo]\n",
    "colonnes_meteo_stations = tempo"
   ]
  },
  {
   "cell_type": "code",
   "execution_count": 4,
   "id": "9732a271-7af8-4f7c-8840-2dcbbb4bb0ce",
   "metadata": {},
   "outputs": [],
   "source": [
    "%run Eval_fcts.py\n",
    "%run Standardize_fcts.py"
   ]
  },
  {
   "cell_type": "code",
   "execution_count": 5,
   "id": "7397ec6c-ae5f-4733-9b46-80c8b189caf8",
   "metadata": {},
   "outputs": [],
   "source": [
    "%run Regression_GAM_Gamma.py"
   ]
  },
  {
   "cell_type": "markdown",
   "id": "37b81e78-551c-47ca-9e0b-ebd3d94d52ea",
   "metadata": {},
   "source": [
    "# Val croisée"
   ]
  },
  {
   "cell_type": "code",
   "execution_count": 6,
   "id": "1cc824b6-c613-4357-8487-2771b576a5b6",
   "metadata": {},
   "outputs": [],
   "source": [
    "depth = 3\n",
    "feature_grid = [\"auto\"]\n",
    "sample_grid = [2, 4, 6, 8, 10]\n",
    "n_knots = 10\n",
    "\n",
    "sample_grid = [10]\n",
    "min_lag = 0\n",
    "max_lag = 7"
   ]
  },
  {
   "cell_type": "code",
   "execution_count": 7,
   "id": "bbd14f45-0ebd-45df-83df-cd71c897e2a1",
   "metadata": {},
   "outputs": [
    {
     "name": "stderr",
     "output_type": "stream",
     "text": [
      "100%|██████████████████████████████████████████| 8/8 [1:36:07<00:00, 720.99s/it]"
     ]
    },
    {
     "name": "stdout",
     "output_type": "stream",
     "text": [
      "OK\n"
     ]
    },
    {
     "name": "stderr",
     "output_type": "stream",
     "text": [
      "\n"
     ]
    }
   ],
   "source": [
    "for curr_feature in feature_grid:\n",
    "    for curr_sample in sample_grid:\n",
    "        for curr_lag in tqdm(range(min_lag, max_lag+1)):\n",
    "        \n",
    "            cv_scores_RMSE_standard = pd.DataFrame({\"Code station\": liste_stations_debit})\n",
    "            cv_scores_MAE_standard = pd.DataFrame({\"Code station\": liste_stations_debit})\n",
    "            cv_scores_R2_standard = pd.DataFrame({\"Code station\": liste_stations_debit})\n",
    "\n",
    "            cv_scores_RMSE = pd.DataFrame({\"Code station\": liste_stations_debit})\n",
    "            cv_scores_MAE = pd.DataFrame({\"Code station\": liste_stations_debit})\n",
    "            cv_scores_R2 = pd.DataFrame({\"Code station\": liste_stations_debit})\n",
    "    \n",
    "            for curr_split in range(9):\n",
    "        \n",
    "            # Entraintement\n",
    "                curr_train_X = mesures_train_X[train_split_X[\"Train_\" + str(curr_split)]]\n",
    "                curr_train_Y = mesures_train_Y[train_split_Y[\"Train_\" + str(curr_split)]]\n",
    "                curr_train_X_mean = curr_train_X[liste_stations_debit + colonnes_meteo_stations].mean()\n",
    "                for code in liste_stations_debit:\n",
    "                    curr_train_X_mean[code] = 0\n",
    "                curr_train_X_std = curr_train_X[liste_stations_debit + colonnes_meteo_stations].std()\n",
    "                curr_train_X_standard = fct_Standardize(curr_train_X, curr_train_X_mean,\n",
    "                                                    curr_train_X_std, liste_stations_debit + colonnes_meteo_stations)\n",
    "                curr_train_X_standard[\"Date\"] = curr_train_X[\"Date\"]\n",
    "                    #GAM\n",
    "                spline_fit = fct_Regression_SplineGamma_fit(curr_train_X_standard, liste_stations_debit, n_knots)\n",
    "                curr_train_X_standard_residus = fct_Regression_SplineGamma_residus(spline_fit, \n",
    "                                                                                   curr_train_X_standard, \n",
    "                                                                                   liste_stations_debit)\n",
    "                curr_train_X_standard_residus = pd.concat([curr_train_X_standard_residus, \n",
    "                                                          curr_train_X_standard[colonnes_meteo_stations]],\n",
    "                                                         axis = 1)\n",
    "                    # Ajout AR\n",
    "                colonnes_reg = colonnes_meteo_stations\n",
    "                for i in range(curr_lag+1):\n",
    "                    variable = curr_train_X_standard_residus[liste_stations_debit].shift(i+7)\n",
    "                    variable.columns = [code+\"_\"+str(i) for code in liste_stations_debit]\n",
    "                    curr_train_X_standard_residus = pd.concat([curr_train_X_standard_residus, variable], axis = 1)\n",
    "                    colonnes_reg = colonnes_reg + [code+\"_\"+str(i) for code in liste_stations_debit]\n",
    "                curr_train_X_standard_residus = curr_train_X_standard_residus[(7+curr_lag):]\n",
    "                \n",
    "                    # RF\n",
    "                model_RF = RandomForestRegressor(max_features=curr_feature,\n",
    "                                                max_samples=curr_sample/10)\n",
    "                model_RF.fit(X = curr_train_X_standard_residus[colonnes_reg],\n",
    "                             y = curr_train_X_standard_residus[liste_stations_debit])\n",
    "        \n",
    "                # Predictions Standard\n",
    "                curr_test_X = mesures_train_X[train_split_X[\"Test_\" + str(curr_split)]]\n",
    "                curr_test_Y = mesures_train_Y[train_split_Y[\"Test_\" + str(curr_split)]]\n",
    "                liste_dates = curr_test_Y[\"Date\"]\n",
    "                curr_test_X_standard =fct_Standardize(curr_test_X, curr_train_X_mean,\n",
    "                                                  curr_train_X_std, liste_stations_debit + colonnes_meteo_stations)\n",
    "                curr_test_X_standard[\"Date\"] = curr_test_X[\"Date\"].values\n",
    "                curr_test_X_standard_residus = fct_Regression_SplineGamma_residus(spline_fit,\n",
    "                                                                              curr_test_X_standard, \n",
    "                                                                              liste_stations_debit)\n",
    "                curr_test_X_standard_residus = pd.concat([curr_test_X_standard_residus, \n",
    "                                                          curr_test_X_standard[colonnes_meteo_stations]],\n",
    "                                                         axis = 1)\n",
    "                    # Ajout variables AR\n",
    "                for i in range(curr_lag+1):\n",
    "                    variable = curr_test_X_standard_residus[liste_stations_debit].shift(i+7)\n",
    "                    variable.columns = [code+\"_\"+str(i) for code in liste_stations_debit]\n",
    "                    curr_test_X_standard_residus = pd.concat([curr_test_X_standard_residus, variable], axis = 1)\n",
    "                curr_test_X_standard_residus = curr_test_X_standard_residus[(7+curr_lag):]\n",
    "                    # RF\n",
    "                predictions_test_Y_standard_residus = model_RF.predict(curr_test_X_standard_residus[colonnes_reg])\n",
    "                predictions_test_Y_standard_residus = pd.DataFrame(predictions_test_Y_standard_residus, columns=liste_stations_debit)\n",
    "                predictions_test_Y_standard_residus[\"Date\"] = curr_test_X_standard_residus[\"Date\"].values\n",
    "                # Filtre sur les dates\n",
    "                resultat = pd.DataFrame()\n",
    "                for curr_date in liste_dates:\n",
    "                    resultat = pd.concat([resultat, predictions_test_Y_standard_residus[predictions_test_Y_standard_residus[\"Date\"] == curr_date]])\n",
    "                resultat = resultat.sort_values(by = \"Date\")\n",
    "                predictions_test_Y_standard_residus = resultat.copy()\n",
    "                # On rajoute la compo saisonnalité\n",
    "                predictions_test_Y_standard_saisonnalite = fct_Regression_SplineGamma_predict(spline_fit, liste_dates, liste_stations_debit)\n",
    "                predictions_test_Y_standard = predictions_test_Y_standard_residus[[\"Date\"]].copy()\n",
    "                for code in liste_stations_debit:\n",
    "                    predictions_test_Y_standard[code] = predictions_test_Y_standard_residus[code].values + predictions_test_Y_standard_saisonnalite[code].values\n",
    "\n",
    "        \n",
    "                # Score standard\n",
    "                curr_test_Y_standard = fct_Standardize(curr_test_Y, \n",
    "                                                       curr_train_X_mean, curr_train_X_std, \n",
    "                                                       liste_stations_debit)\n",
    "                curr_test_Y_standard[\"Date\"] = curr_test_Y[\"Date\"]\n",
    "                curr_RMSE = fct_RMSE(curr_test_Y_standard, predictions_test_Y_standard, liste_stations_debit)\n",
    "                cv_scores_RMSE_standard[\"Split_\" + str(curr_split)] = curr_RMSE[\"RMSE\"]\n",
    "                curr_MAE = fct_MAE(curr_test_Y_standard, predictions_test_Y_standard, liste_stations_debit)\n",
    "                cv_scores_MAE_standard[\"Split_\" + str(curr_split)] = curr_MAE[\"MAE\"]\n",
    "                curr_R2 = fct_R2(curr_test_Y_standard, predictions_test_Y_standard, liste_stations_debit)\n",
    "                cv_scores_R2_standard[\"Split_\" + str(curr_split)] = curr_R2[\"R2\"]\n",
    "                # Score\n",
    "                predictions_test_Y = fct_StandardizeInverse(predictions_test_Y_standard, \n",
    "                                                       curr_train_X_mean, curr_train_X_std, \n",
    "                                                       liste_stations_debit)\n",
    "                predictions_test_Y[\"Date\"] = predictions_test_Y_standard[\"Date\"].values\n",
    "                curr_RMSE = fct_RMSE(curr_test_Y, predictions_test_Y, liste_stations_debit)\n",
    "                cv_scores_RMSE[\"Split_\" + str(curr_split)] = curr_RMSE[\"RMSE\"]\n",
    "                curr_MAE = fct_MAE(curr_test_Y, predictions_test_Y, liste_stations_debit)\n",
    "                cv_scores_MAE[\"Split_\" + str(curr_split)] = curr_MAE[\"MAE\"]\n",
    "                curr_R2 = fct_R2(curr_test_Y, predictions_test_Y, liste_stations_debit)\n",
    "                cv_scores_R2[\"Split_\" + str(curr_split)] = curr_R2[\"R2\"]\n",
    "    \n",
    "            cv_moyen_RMSE_standard = []\n",
    "            cv_moyen_MAE_standard = []\n",
    "            cv_moyen_R2_standard = []\n",
    "\n",
    "            cv_moyen_RMSE = []\n",
    "            cv_moyen_MAE = []\n",
    "            cv_moyen_R2 = []\n",
    "\n",
    "            for code in liste_stations_debit:\n",
    "                score_RMSE = np.mean(cv_scores_RMSE_standard[cv_scores_RMSE_standard[\"Code station\"] == code][[\"Split_\" + str(i) for i in range(9)]].iloc[0,:])\n",
    "                cv_moyen_RMSE_standard.append(score_RMSE)\n",
    "                score_MAE = np.mean(cv_scores_MAE_standard[cv_scores_MAE_standard[\"Code station\"] == code][[\"Split_\" + str(i) for i in range(9)]].iloc[0,:])\n",
    "                cv_moyen_MAE_standard.append(score_MAE)\n",
    "                score_R2 = np.mean(cv_scores_R2_standard[cv_scores_R2_standard[\"Code station\"] == code][[\"Split_\" + str(i) for i in range(9)]].iloc[0,:])\n",
    "                cv_moyen_R2_standard.append(score_R2)\n",
    "                score_RMSE = np.mean(cv_scores_RMSE[cv_scores_RMSE[\"Code station\"] == code][[\"Split_\" + str(i) for i in range(9)]].iloc[0,:])\n",
    "                cv_moyen_RMSE.append(score_RMSE)\n",
    "                score_MAE = np.mean(cv_scores_MAE[cv_scores_MAE[\"Code station\"] == code][[\"Split_\" + str(i) for i in range(9)]].iloc[0,:])\n",
    "                cv_moyen_MAE.append(score_MAE)\n",
    "                score_R2 = np.mean(cv_scores_R2[cv_scores_R2[\"Code station\"] == code][[\"Split_\" + str(i) for i in range(9)]].iloc[0,:])\n",
    "                cv_moyen_R2.append(score_R2)\n",
    "\n",
    "            cv_scores_RMSE_standard[\"Moyenne\"] = cv_moyen_RMSE_standard\n",
    "            cv_scores_RMSE_standard.to_csv(\"../Data/GAMRandomForestAR/CV_RMSE_standard_\" + str(curr_feature) + \"_\" + str(curr_sample) + \"_\" + str(curr_lag) + \".csv\",\n",
    "                                  index=False)\n",
    "            cv_scores_MAE_standard[\"Moyenne\"] = cv_moyen_MAE_standard\n",
    "            cv_scores_MAE_standard.to_csv(\"../Data/GAMRandomForestAR/CV_MAE_standard_\" + str(curr_feature) + \"_\" + str(curr_sample) + \"_\" + str(curr_lag) + \".csv\",\n",
    "                                  index=False)\n",
    "            cv_scores_R2_standard[\"Moyenne\"] = cv_moyen_R2_standard\n",
    "            cv_scores_R2_standard.to_csv(\"../Data/GAMRandomForestAR/CV_R2_standard_\" + str(curr_feature) + \"_\" + str(curr_sample) + \"_\" + str(curr_lag) + \".csv\",\n",
    "                                  index=False)\n",
    "            cv_scores_RMSE[\"Moyenne\"] = cv_moyen_RMSE\n",
    "            cv_scores_RMSE.to_csv(\"../Data/GAMRandomForestAR/CV_RMSE_\" + str(curr_feature) + \"_\" + str(curr_sample) + \"_\" + str(curr_lag) + \".csv\",\n",
    "                                  index=False)\n",
    "            cv_scores_MAE[\"Moyenne\"] = cv_moyen_MAE\n",
    "            cv_scores_MAE.to_csv(\"../Data/GAMRandomForestAR/CV_MAE_\" + str(curr_feature) + \"_\" + str(curr_sample) + \"_\" + str(curr_lag) + \".csv\",\n",
    "                                  index=False)\n",
    "            cv_scores_R2[\"Moyenne\"] = cv_moyen_R2\n",
    "            cv_scores_R2.to_csv(\"../Data/GAMRandomForestAR/CV_R2_\" + str(curr_feature) + \"_\" + str(curr_sample) + \"_\" + str(curr_lag) + \".csv\",\n",
    "                                  index=False)\n",
    "print(\"OK\")"
   ]
  },
  {
   "cell_type": "markdown",
   "id": "6cf7ad0e-3717-4b5f-b654-be16ba4dbd9c",
   "metadata": {},
   "source": [
    "## Selection"
   ]
  },
  {
   "cell_type": "code",
   "execution_count": 8,
   "id": "819eda28-32e9-45df-96eb-3f544562eac8",
   "metadata": {},
   "outputs": [
    {
     "data": {
      "text/html": [
       "<div>\n",
       "<style scoped>\n",
       "    .dataframe tbody tr th:only-of-type {\n",
       "        vertical-align: middle;\n",
       "    }\n",
       "\n",
       "    .dataframe tbody tr th {\n",
       "        vertical-align: top;\n",
       "    }\n",
       "\n",
       "    .dataframe thead th {\n",
       "        text-align: right;\n",
       "    }\n",
       "</style>\n",
       "<table border=\"1\" class=\"dataframe\">\n",
       "  <thead>\n",
       "    <tr style=\"text-align: right;\">\n",
       "      <th></th>\n",
       "      <th>Cours eau</th>\n",
       "      <th>Index</th>\n",
       "      <th>Couleur</th>\n",
       "    </tr>\n",
       "  </thead>\n",
       "  <tbody>\n",
       "    <tr>\n",
       "      <th>0</th>\n",
       "      <td>Garonne</td>\n",
       "      <td>0</td>\n",
       "      <td>red</td>\n",
       "    </tr>\n",
       "    <tr>\n",
       "      <th>1</th>\n",
       "      <td>Loire</td>\n",
       "      <td>1</td>\n",
       "      <td>green</td>\n",
       "    </tr>\n",
       "    <tr>\n",
       "      <th>2</th>\n",
       "      <td>Seine</td>\n",
       "      <td>2</td>\n",
       "      <td>blue</td>\n",
       "    </tr>\n",
       "  </tbody>\n",
       "</table>\n",
       "</div>"
      ],
      "text/plain": [
       "  Cours eau  Index Couleur\n",
       "0   Garonne      0     red\n",
       "1     Loire      1   green\n",
       "2     Seine      2    blue"
      ]
     },
     "execution_count": 8,
     "metadata": {},
     "output_type": "execute_result"
    }
   ],
   "source": [
    "n_cours_eau = 3\n",
    "cours_eau = list(np.unique(stations_debit[\"Cours eau\"]))\n",
    "cours_eau_cmap = cm.get_cmap(ListedColormap([\"red\", \"green\", \"blue\"]))\n",
    "cours_eau_couleur = pd.DataFrame({\"Cours eau\": cours_eau, \"Index\": range(n_cours_eau), \"Couleur\": [\"red\", \"green\", \"blue\"]})\n",
    "cours_eau_couleur"
   ]
  },
  {
   "cell_type": "code",
   "execution_count": 33,
   "id": "7d7f8fff-6421-4623-8bf1-33c74b8ca232",
   "metadata": {},
   "outputs": [
    {
     "name": "stderr",
     "output_type": "stream",
     "text": [
      "100%|█████████████████████████████████████████████| 8/8 [00:00<00:00, 77.45it/s]\n"
     ]
    },
    {
     "ename": "IndexError",
     "evalue": "too many indices for array: array is 1-dimensional, but 2 were indexed",
     "output_type": "error",
     "traceback": [
      "\u001b[0;31m---------------------------------------------------------------------------\u001b[0m",
      "\u001b[0;31mIndexError\u001b[0m                                Traceback (most recent call last)",
      "\u001b[0;32m/tmp/ipykernel_3097/2102343117.py\u001b[0m in \u001b[0;36m<module>\u001b[0;34m\u001b[0m\n\u001b[1;32m     17\u001b[0m     \u001b[0;32mfor\u001b[0m \u001b[0mcode\u001b[0m \u001b[0;32min\u001b[0m \u001b[0mstations\u001b[0m\u001b[0;34m:\u001b[0m\u001b[0;34m\u001b[0m\u001b[0;34m\u001b[0m\u001b[0m\n\u001b[1;32m     18\u001b[0m         \u001b[0;32mfor\u001b[0m \u001b[0mj\u001b[0m \u001b[0;32min\u001b[0m \u001b[0mrange\u001b[0m\u001b[0;34m(\u001b[0m\u001b[0mlen\u001b[0m\u001b[0;34m(\u001b[0m\u001b[0mfeature_grid\u001b[0m\u001b[0;34m)\u001b[0m\u001b[0;34m)\u001b[0m\u001b[0;34m:\u001b[0m\u001b[0;34m\u001b[0m\u001b[0;34m\u001b[0m\u001b[0m\n\u001b[0;32m---> 19\u001b[0;31m             axs[i,j].plot(cv_moyen[cv_moyen[\"Max_features\"] == feature_grid[0]][\"Max_samples\"], \n\u001b[0m\u001b[1;32m     20\u001b[0m                           \u001b[0mcv_moyen\u001b[0m\u001b[0;34m[\u001b[0m\u001b[0mcv_moyen\u001b[0m\u001b[0;34m[\u001b[0m\u001b[0;34m\"Max_features\"\u001b[0m\u001b[0;34m]\u001b[0m \u001b[0;34m==\u001b[0m \u001b[0mfeature_grid\u001b[0m\u001b[0;34m[\u001b[0m\u001b[0;36m0\u001b[0m\u001b[0;34m]\u001b[0m\u001b[0;34m]\u001b[0m\u001b[0;34m[\u001b[0m\u001b[0mcode\u001b[0m\u001b[0;34m]\u001b[0m\u001b[0;34m,\u001b[0m\u001b[0;34m\u001b[0m\u001b[0;34m\u001b[0m\u001b[0m\n\u001b[1;32m     21\u001b[0m                           color = cours_eau_cmap(i))\n",
      "\u001b[0;31mIndexError\u001b[0m: too many indices for array: array is 1-dimensional, but 2 were indexed"
     ]
    },
    {
     "data": {
      "image/png": "[encoded data removed]",
      "text/plain": [
       "<Figure size 1080x360 with 3 Axes>"
      ]
     },
     "metadata": {
      "needs_background": "light"
     },
     "output_type": "display_data"
    }
   ],
   "source": [
    "cv_moyen = pd.DataFrame()\n",
    "curr_feature=\"auto\"\n",
    "for curr_lag in tqdm(range(min_lag, max_lag+1)):\n",
    "    for curr_sample in sample_grid:\n",
    "        curr_moyen = {}\n",
    "        cv_scores = pd.read_csv(\"../Data/GAMRandomForestAR/CV_RMSE_\" + str(curr_feature) + \"_\" + str(curr_sample) +\"_\"+ str(curr_lag)+ \".csv\")\n",
    "        for code in liste_stations_debit:\n",
    "            curr_moyen[code] = list(cv_scores[cv_scores[\"Code station\"] == code][\"Moyenne\"])\n",
    "        curr_moyen = pd.DataFrame(curr_moyen)\n",
    "        curr_moyen[\"Max_features\"] = curr_feature\n",
    "        curr_moyen[\"Max_samples\"] = curr_sample\n",
    "        cv_moyen = pd.concat([cv_moyen, curr_moyen])\n",
    "\n",
    "fig, axs = plt.subplots(n_cours_eau, len(feature_grid), figsize = (15,5))\n",
    "for i in range(n_cours_eau):\n",
    "    stations = list(stations_debit[stations_debit[\"Cours eau\"] == list(cours_eau_couleur[cours_eau_couleur[\"Index\"] == i][\"Cours eau\"])[0]][\"Code station\"])\n",
    "    for code in stations:\n",
    "        for j in range(len(feature_grid)):\n",
    "            axs[i,j].plot(cv_moyen[cv_moyen[\"Max_features\"] == feature_grid[0]][\"Max_samples\"], \n",
    "                          cv_moyen[cv_moyen[\"Max_features\"] == feature_grid[0]][code],\n",
    "                          color = cours_eau_cmap(i))\n",
    "            axs[i,j].set_title(feature_grid[j])\n",
    "plt.show()"
   ]
  },
  {
   "cell_type": "code",
   "execution_count": 35,
   "id": "62079887",
   "metadata": {},
   "outputs": [
    {
     "data": {
      "text/plain": [
       "0    True\n",
       "0    True\n",
       "0    True\n",
       "0    True\n",
       "0    True\n",
       "0    True\n",
       "0    True\n",
       "0    True\n",
       "Name: Max_features, dtype: bool"
      ]
     },
     "execution_count": 35,
     "metadata": {},
     "output_type": "execute_result"
    }
   ],
   "source": [
    "cv_moyen[\"Max_features\"] == feature_grid[0]"
   ]
  },
  {
   "cell_type": "code",
   "execution_count": 36,
   "id": "90fd194f-0daa-4b80-a2c8-7e8414b26e32",
   "metadata": {},
   "outputs": [
    {
     "ename": "FileNotFoundError",
     "evalue": "[Errno 2] No such file or directory: '../Data/GAMRandomForestAR/CV_MAE_auto_10.csv'",
     "output_type": "error",
     "traceback": [
      "\u001b[0;31m---------------------------------------------------------------------------\u001b[0m",
      "\u001b[0;31mFileNotFoundError\u001b[0m                         Traceback (most recent call last)",
      "\u001b[0;32m/tmp/ipykernel_3097/2031384698.py\u001b[0m in \u001b[0;36m<module>\u001b[0;34m\u001b[0m\n\u001b[1;32m      4\u001b[0m     \u001b[0;32mfor\u001b[0m \u001b[0mcurr_sample\u001b[0m \u001b[0;32min\u001b[0m \u001b[0msample_grid\u001b[0m\u001b[0;34m:\u001b[0m\u001b[0;34m\u001b[0m\u001b[0;34m\u001b[0m\u001b[0m\n\u001b[1;32m      5\u001b[0m         \u001b[0mcurr_moyen\u001b[0m \u001b[0;34m=\u001b[0m \u001b[0;34m{\u001b[0m\u001b[0;34m}\u001b[0m\u001b[0;34m\u001b[0m\u001b[0;34m\u001b[0m\u001b[0m\n\u001b[0;32m----> 6\u001b[0;31m         \u001b[0mcv_scores\u001b[0m \u001b[0;34m=\u001b[0m \u001b[0mpd\u001b[0m\u001b[0;34m.\u001b[0m\u001b[0mread_csv\u001b[0m\u001b[0;34m(\u001b[0m\u001b[0;34m\"../Data/GAMRandomForestAR/CV_MAE_\"\u001b[0m \u001b[0;34m+\u001b[0m \u001b[0mstr\u001b[0m\u001b[0;34m(\u001b[0m\u001b[0mcurr_feature\u001b[0m\u001b[0;34m)\u001b[0m \u001b[0;34m+\u001b[0m \u001b[0;34m\"_\"\u001b[0m \u001b[0;34m+\u001b[0m \u001b[0mstr\u001b[0m\u001b[0;34m(\u001b[0m\u001b[0mcurr_sample\u001b[0m\u001b[0;34m)\u001b[0m \u001b[0;34m+\u001b[0m \u001b[0;34m\".csv\"\u001b[0m\u001b[0;34m)\u001b[0m\u001b[0;34m\u001b[0m\u001b[0;34m\u001b[0m\u001b[0m\n\u001b[0m\u001b[1;32m      7\u001b[0m         \u001b[0;32mfor\u001b[0m \u001b[0mcode\u001b[0m \u001b[0;32min\u001b[0m \u001b[0mliste_stations_debit\u001b[0m\u001b[0;34m:\u001b[0m\u001b[0;34m\u001b[0m\u001b[0;34m\u001b[0m\u001b[0m\n\u001b[1;32m      8\u001b[0m             \u001b[0mcurr_moyen\u001b[0m\u001b[0;34m[\u001b[0m\u001b[0mcode\u001b[0m\u001b[0;34m]\u001b[0m \u001b[0;34m=\u001b[0m \u001b[0mlist\u001b[0m\u001b[0;34m(\u001b[0m\u001b[0mcv_scores\u001b[0m\u001b[0;34m[\u001b[0m\u001b[0mcv_scores\u001b[0m\u001b[0;34m[\u001b[0m\u001b[0;34m\"Code station\"\u001b[0m\u001b[0;34m]\u001b[0m \u001b[0;34m==\u001b[0m \u001b[0mcode\u001b[0m\u001b[0;34m]\u001b[0m\u001b[0;34m[\u001b[0m\u001b[0;34m\"Moyenne\"\u001b[0m\u001b[0;34m]\u001b[0m\u001b[0;34m)\u001b[0m\u001b[0;34m\u001b[0m\u001b[0;34m\u001b[0m\u001b[0m\n",
      "\u001b[0;32m~/miniconda3/envs/geo/lib/python3.9/site-packages/pandas/util/_decorators.py\u001b[0m in \u001b[0;36mwrapper\u001b[0;34m(*args, **kwargs)\u001b[0m\n\u001b[1;32m    309\u001b[0m                     \u001b[0mstacklevel\u001b[0m\u001b[0;34m=\u001b[0m\u001b[0mstacklevel\u001b[0m\u001b[0;34m,\u001b[0m\u001b[0;34m\u001b[0m\u001b[0;34m\u001b[0m\u001b[0m\n\u001b[1;32m    310\u001b[0m                 )\n\u001b[0;32m--> 311\u001b[0;31m             \u001b[0;32mreturn\u001b[0m \u001b[0mfunc\u001b[0m\u001b[0;34m(\u001b[0m\u001b[0;34m*\u001b[0m\u001b[0margs\u001b[0m\u001b[0;34m,\u001b[0m \u001b[0;34m**\u001b[0m\u001b[0mkwargs\u001b[0m\u001b[0;34m)\u001b[0m\u001b[0;34m\u001b[0m\u001b[0;34m\u001b[0m\u001b[0m\n\u001b[0m\u001b[1;32m    312\u001b[0m \u001b[0;34m\u001b[0m\u001b[0m\n\u001b[1;32m    313\u001b[0m         \u001b[0;32mreturn\u001b[0m \u001b[0mwrapper\u001b[0m\u001b[0;34m\u001b[0m\u001b[0;34m\u001b[0m\u001b[0m\n",
      "\u001b[0;32m~/miniconda3/envs/geo/lib/python3.9/site-packages/pandas/io/parsers/readers.py\u001b[0m in \u001b[0;36mread_csv\u001b[0;34m(filepath_or_buffer, sep, delimiter, header, names, index_col, usecols, squeeze, prefix, mangle_dupe_cols, dtype, engine, converters, true_values, false_values, skipinitialspace, skiprows, skipfooter, nrows, na_values, keep_default_na, na_filter, verbose, skip_blank_lines, parse_dates, infer_datetime_format, keep_date_col, date_parser, dayfirst, cache_dates, iterator, chunksize, compression, thousands, decimal, lineterminator, quotechar, quoting, doublequote, escapechar, comment, encoding, encoding_errors, dialect, error_bad_lines, warn_bad_lines, on_bad_lines, delim_whitespace, low_memory, memory_map, float_precision, storage_options)\u001b[0m\n\u001b[1;32m    678\u001b[0m     \u001b[0mkwds\u001b[0m\u001b[0;34m.\u001b[0m\u001b[0mupdate\u001b[0m\u001b[0;34m(\u001b[0m\u001b[0mkwds_defaults\u001b[0m\u001b[0;34m)\u001b[0m\u001b[0;34m\u001b[0m\u001b[0;34m\u001b[0m\u001b[0m\n\u001b[1;32m    679\u001b[0m \u001b[0;34m\u001b[0m\u001b[0m\n\u001b[0;32m--> 680\u001b[0;31m     \u001b[0;32mreturn\u001b[0m \u001b[0m_read\u001b[0m\u001b[0;34m(\u001b[0m\u001b[0mfilepath_or_buffer\u001b[0m\u001b[0;34m,\u001b[0m \u001b[0mkwds\u001b[0m\u001b[0;34m)\u001b[0m\u001b[0;34m\u001b[0m\u001b[0;34m\u001b[0m\u001b[0m\n\u001b[0m\u001b[1;32m    681\u001b[0m \u001b[0;34m\u001b[0m\u001b[0m\n\u001b[1;32m    682\u001b[0m \u001b[0;34m\u001b[0m\u001b[0m\n",
      "\u001b[0;32m~/miniconda3/envs/geo/lib/python3.9/site-packages/pandas/io/parsers/readers.py\u001b[0m in \u001b[0;36m_read\u001b[0;34m(filepath_or_buffer, kwds)\u001b[0m\n\u001b[1;32m    573\u001b[0m \u001b[0;34m\u001b[0m\u001b[0m\n\u001b[1;32m    574\u001b[0m     \u001b[0;31m# Create the parser.\u001b[0m\u001b[0;34m\u001b[0m\u001b[0;34m\u001b[0m\u001b[0m\n\u001b[0;32m--> 575\u001b[0;31m     \u001b[0mparser\u001b[0m \u001b[0;34m=\u001b[0m \u001b[0mTextFileReader\u001b[0m\u001b[0;34m(\u001b[0m\u001b[0mfilepath_or_buffer\u001b[0m\u001b[0;34m,\u001b[0m \u001b[0;34m**\u001b[0m\u001b[0mkwds\u001b[0m\u001b[0;34m)\u001b[0m\u001b[0;34m\u001b[0m\u001b[0;34m\u001b[0m\u001b[0m\n\u001b[0m\u001b[1;32m    576\u001b[0m \u001b[0;34m\u001b[0m\u001b[0m\n\u001b[1;32m    577\u001b[0m     \u001b[0;32mif\u001b[0m \u001b[0mchunksize\u001b[0m \u001b[0;32mor\u001b[0m \u001b[0miterator\u001b[0m\u001b[0;34m:\u001b[0m\u001b[0;34m\u001b[0m\u001b[0;34m\u001b[0m\u001b[0m\n",
      "\u001b[0;32m~/miniconda3/envs/geo/lib/python3.9/site-packages/pandas/io/parsers/readers.py\u001b[0m in \u001b[0;36m__init__\u001b[0;34m(self, f, engine, **kwds)\u001b[0m\n\u001b[1;32m    931\u001b[0m \u001b[0;34m\u001b[0m\u001b[0m\n\u001b[1;32m    932\u001b[0m         \u001b[0mself\u001b[0m\u001b[0;34m.\u001b[0m\u001b[0mhandles\u001b[0m\u001b[0;34m:\u001b[0m \u001b[0mIOHandles\u001b[0m \u001b[0;34m|\u001b[0m \u001b[0;32mNone\u001b[0m \u001b[0;34m=\u001b[0m \u001b[0;32mNone\u001b[0m\u001b[0;34m\u001b[0m\u001b[0;34m\u001b[0m\u001b[0m\n\u001b[0;32m--> 933\u001b[0;31m         \u001b[0mself\u001b[0m\u001b[0;34m.\u001b[0m\u001b[0m_engine\u001b[0m \u001b[0;34m=\u001b[0m \u001b[0mself\u001b[0m\u001b[0;34m.\u001b[0m\u001b[0m_make_engine\u001b[0m\u001b[0;34m(\u001b[0m\u001b[0mf\u001b[0m\u001b[0;34m,\u001b[0m \u001b[0mself\u001b[0m\u001b[0;34m.\u001b[0m\u001b[0mengine\u001b[0m\u001b[0;34m)\u001b[0m\u001b[0;34m\u001b[0m\u001b[0;34m\u001b[0m\u001b[0m\n\u001b[0m\u001b[1;32m    934\u001b[0m \u001b[0;34m\u001b[0m\u001b[0m\n\u001b[1;32m    935\u001b[0m     \u001b[0;32mdef\u001b[0m \u001b[0mclose\u001b[0m\u001b[0;34m(\u001b[0m\u001b[0mself\u001b[0m\u001b[0;34m)\u001b[0m\u001b[0;34m:\u001b[0m\u001b[0;34m\u001b[0m\u001b[0;34m\u001b[0m\u001b[0m\n",
      "\u001b[0;32m~/miniconda3/envs/geo/lib/python3.9/site-packages/pandas/io/parsers/readers.py\u001b[0m in \u001b[0;36m_make_engine\u001b[0;34m(self, f, engine)\u001b[0m\n\u001b[1;32m   1215\u001b[0m             \u001b[0;31m# \"Union[str, PathLike[str], ReadCsvBuffer[bytes], ReadCsvBuffer[str]]\"\u001b[0m\u001b[0;34m\u001b[0m\u001b[0;34m\u001b[0m\u001b[0m\n\u001b[1;32m   1216\u001b[0m             \u001b[0;31m# , \"str\", \"bool\", \"Any\", \"Any\", \"Any\", \"Any\", \"Any\"\u001b[0m\u001b[0;34m\u001b[0m\u001b[0;34m\u001b[0m\u001b[0m\n\u001b[0;32m-> 1217\u001b[0;31m             self.handles = get_handle(  # type: ignore[call-overload]\n\u001b[0m\u001b[1;32m   1218\u001b[0m                 \u001b[0mf\u001b[0m\u001b[0;34m,\u001b[0m\u001b[0;34m\u001b[0m\u001b[0;34m\u001b[0m\u001b[0m\n\u001b[1;32m   1219\u001b[0m                 \u001b[0mmode\u001b[0m\u001b[0;34m,\u001b[0m\u001b[0;34m\u001b[0m\u001b[0;34m\u001b[0m\u001b[0m\n",
      "\u001b[0;32m~/miniconda3/envs/geo/lib/python3.9/site-packages/pandas/io/common.py\u001b[0m in \u001b[0;36mget_handle\u001b[0;34m(path_or_buf, mode, encoding, compression, memory_map, is_text, errors, storage_options)\u001b[0m\n\u001b[1;32m    787\u001b[0m         \u001b[0;32mif\u001b[0m \u001b[0mioargs\u001b[0m\u001b[0;34m.\u001b[0m\u001b[0mencoding\u001b[0m \u001b[0;32mand\u001b[0m \u001b[0;34m\"b\"\u001b[0m \u001b[0;32mnot\u001b[0m \u001b[0;32min\u001b[0m \u001b[0mioargs\u001b[0m\u001b[0;34m.\u001b[0m\u001b[0mmode\u001b[0m\u001b[0;34m:\u001b[0m\u001b[0;34m\u001b[0m\u001b[0;34m\u001b[0m\u001b[0m\n\u001b[1;32m    788\u001b[0m             \u001b[0;31m# Encoding\u001b[0m\u001b[0;34m\u001b[0m\u001b[0;34m\u001b[0m\u001b[0m\n\u001b[0;32m--> 789\u001b[0;31m             handle = open(\n\u001b[0m\u001b[1;32m    790\u001b[0m                 \u001b[0mhandle\u001b[0m\u001b[0;34m,\u001b[0m\u001b[0;34m\u001b[0m\u001b[0;34m\u001b[0m\u001b[0m\n\u001b[1;32m    791\u001b[0m                 \u001b[0mioargs\u001b[0m\u001b[0;34m.\u001b[0m\u001b[0mmode\u001b[0m\u001b[0;34m,\u001b[0m\u001b[0;34m\u001b[0m\u001b[0;34m\u001b[0m\u001b[0m\n",
      "\u001b[0;31mFileNotFoundError\u001b[0m: [Errno 2] No such file or directory: '../Data/GAMRandomForestAR/CV_MAE_auto_10.csv'"
     ]
    }
   ],
   "source": [
    "cv_moyen = pd.DataFrame()\n",
    "\n",
    "for curr_feature in feature_grid:\n",
    "    for curr_sample in sample_grid:\n",
    "        curr_moyen = {}\n",
    "        cv_scores = pd.read_csv(\"../Data/GAMRandomForestAR/CV_MAE_\" + str(curr_feature) + \"_\" + str(curr_sample) + \".csv\")\n",
    "        for code in liste_stations_debit:\n",
    "            curr_moyen[code] = list(cv_scores[cv_scores[\"Code station\"] == code][\"Moyenne\"])\n",
    "        curr_moyen = pd.DataFrame(curr_moyen)\n",
    "        curr_moyen[\"Max_features\"] = curr_feature\n",
    "        curr_moyen[\"Max_samples\"] = curr_sample\n",
    "        cv_moyen = pd.concat([cv_moyen, curr_moyen])\n",
    "\n",
    "fig, axs = plt.subplots(n_cours_eau, len(feature_grid), figsize = (15,5))\n",
    "for i in range(n_cours_eau):\n",
    "    stations = list(stations_debit[stations_debit[\"Cours eau\"] == list(cours_eau_couleur[cours_eau_couleur[\"Index\"] == i][\"Cours eau\"])[0]][\"Code station\"])\n",
    "    for code in stations:\n",
    "        for j in range(len(feature_grid)):\n",
    "            axs[i,j].plot(cv_moyen[cv_moyen[\"Max_features\"] == feature_grid[i]][\"Max_samples\"], \n",
    "                          cv_moyen[cv_moyen[\"Max_features\"] == feature_grid[i]][code],\n",
    "                          color = cours_eau_cmap(i))\n",
    "            axs[i,j].set_title(feature_grid[j])\n",
    "plt.show()"
   ]
  },
  {
   "cell_type": "code",
   "execution_count": null,
   "id": "cfb63cdd-51fd-4507-bacf-9010be71a177",
   "metadata": {},
   "outputs": [],
   "source": [
    "cv_moyen = pd.DataFrame()\n",
    "\n",
    "for curr_feature in feature_grid:\n",
    "    for curr_sample in sample_grid:\n",
    "        curr_moyen = {}\n",
    "        cv_scores = pd.read_csv(\"../Data/GAMRandomForestAR/CV_R2_\" + str(curr_feature) + \"_\" + str(curr_sample) + \".csv\")\n",
    "        for code in liste_stations_debit:\n",
    "            curr_moyen[code] = list(cv_scores[cv_scores[\"Code station\"] == code][\"Moyenne\"])\n",
    "        curr_moyen = pd.DataFrame(curr_moyen)\n",
    "        curr_moyen[\"Max_features\"] = curr_feature\n",
    "        curr_moyen[\"Max_samples\"] = curr_sample\n",
    "        cv_moyen = pd.concat([cv_moyen, curr_moyen])\n",
    "\n",
    "fig, axs = plt.subplots(n_cours_eau, len(feature_grid), figsize = (15,5))\n",
    "for i in range(n_cours_eau):\n",
    "    stations = list(stations_debit[stations_debit[\"Cours eau\"] == list(cours_eau_couleur[cours_eau_couleur[\"Index\"] == i][\"Cours eau\"])[0]][\"Code station\"])\n",
    "    for code in stations:\n",
    "        for j in range(len(feature_grid)):\n",
    "            axs[i,j].plot(cv_moyen[cv_moyen[\"Max_features\"] == feature_grid[i]][\"Max_samples\"], \n",
    "                          cv_moyen[cv_moyen[\"Max_features\"] == feature_grid[i]][code],\n",
    "                          color = cours_eau_cmap(i))\n",
    "            axs[i,j].set_title(feature_grid[j])\n",
    "plt.show()"
   ]
  },
  {
   "cell_type": "code",
   "execution_count": null,
   "id": "97342c8f-b28b-48ae-9f57-34d27b922168",
   "metadata": {},
   "outputs": [],
   "source": [
    "cv_moyen = pd.DataFrame()\n",
    "\n",
    "for curr_feature in feature_grid:\n",
    "    for curr_sample in sample_grid:\n",
    "        curr_moyen = {}\n",
    "        cv_scores = pd.read_csv(\"../Data/GAMRandomForestAR/CV_RMSE_standard_\" + str(curr_feature) + \"_\" + str(curr_sample) + \".csv\")\n",
    "        for code in liste_stations_debit:\n",
    "            curr_moyen[code] = list(cv_scores[cv_scores[\"Code station\"] == code][\"Moyenne\"])\n",
    "        curr_moyen = pd.DataFrame(curr_moyen)\n",
    "        curr_moyen[\"Max_features\"] = curr_feature\n",
    "        curr_moyen[\"Max_samples\"] = curr_sample\n",
    "        cv_moyen = pd.concat([cv_moyen, curr_moyen])\n",
    "\n",
    "fig, axs = plt.subplots(n_cours_eau, len(feature_grid), figsize = (15,5))\n",
    "for i in range(n_cours_eau):\n",
    "    stations = list(stations_debit[stations_debit[\"Cours eau\"] == list(cours_eau_couleur[cours_eau_couleur[\"Index\"] == i][\"Cours eau\"])[0]][\"Code station\"])\n",
    "    for code in stations:\n",
    "        for j in range(len(feature_grid)):\n",
    "            axs[i,j].plot(cv_moyen[cv_moyen[\"Max_features\"] == feature_grid[i]][\"Max_samples\"], \n",
    "                          cv_moyen[cv_moyen[\"Max_features\"] == feature_grid[i]][code],\n",
    "                          color = cours_eau_cmap(i))\n",
    "            axs[i,j].set_title(feature_grid[j])\n",
    "plt.show()"
   ]
  },
  {
   "cell_type": "code",
   "execution_count": null,
   "id": "c50265a7-c9f8-4ff1-81be-04e0c9ff44bb",
   "metadata": {},
   "outputs": [],
   "source": [
    "cv_moyen = pd.DataFrame()\n",
    "\n",
    "for curr_feature in feature_grid:\n",
    "    for curr_sample in sample_grid:\n",
    "        curr_moyen = {}\n",
    "        cv_scores = pd.read_csv(\"../Data/GAMRandomForestAR/CV_MAE_standard_\" + str(curr_feature) + \"_\" + str(curr_sample) + \".csv\")\n",
    "        for code in liste_stations_debit:\n",
    "            curr_moyen[code] = list(cv_scores[cv_scores[\"Code station\"] == code][\"Moyenne\"])\n",
    "        curr_moyen = pd.DataFrame(curr_moyen)\n",
    "        curr_moyen[\"Max_features\"] = curr_feature\n",
    "        curr_moyen[\"Max_samples\"] = curr_sample\n",
    "        cv_moyen = pd.concat([cv_moyen, curr_moyen])\n",
    "\n",
    "fig, axs = plt.subplots(n_cours_eau, len(feature_grid), figsize = (15,5))\n",
    "for i in range(n_cours_eau):\n",
    "    stations = list(stations_debit[stations_debit[\"Cours eau\"] == list(cours_eau_couleur[cours_eau_couleur[\"Index\"] == i][\"Cours eau\"])[0]][\"Code station\"])\n",
    "    for code in stations:\n",
    "        for j in range(len(feature_grid)):\n",
    "            axs[i,j].plot(cv_moyen[cv_moyen[\"Max_features\"] == feature_grid[i]][\"Max_samples\"], \n",
    "                          cv_moyen[cv_moyen[\"Max_features\"] == feature_grid[i]][code],\n",
    "                          color = cours_eau_cmap(i))\n",
    "            axs[i,j].set_title(feature_grid[j])\n",
    "plt.show()"
   ]
  },
  {
   "cell_type": "code",
   "execution_count": null,
   "id": "1615778b-230a-4c99-bdc8-7d4f41baf1dc",
   "metadata": {},
   "outputs": [],
   "source": [
    "cv_moyen = pd.DataFrame()\n",
    "\n",
    "for curr_feature in feature_grid:\n",
    "    for curr_sample in sample_grid:\n",
    "        curr_moyen = {}\n",
    "        cv_scores = pd.read_csv(\"../Data/GAMRandomForestAR/CV_R2_\" + str(curr_feature) + \"_\" + str(curr_sample) + \".csv\")\n",
    "        for code in liste_stations_debit:\n",
    "            curr_moyen[code] = list(cv_scores[cv_scores[\"Code station\"] == code][\"Moyenne\"])\n",
    "        curr_moyen = pd.DataFrame(curr_moyen)\n",
    "        curr_moyen[\"Max_features\"] = curr_feature\n",
    "        curr_moyen[\"Max_samples\"] = curr_sample\n",
    "        cv_moyen = pd.concat([cv_moyen, curr_moyen])\n",
    "\n",
    "fig, axs = plt.subplots(n_cours_eau, len(feature_grid), figsize = (15,5))\n",
    "for i in range(n_cours_eau):\n",
    "    stations = list(stations_debit[stations_debit[\"Cours eau\"] == list(cours_eau_couleur[cours_eau_couleur[\"Index\"] == i][\"Cours eau\"])[0]][\"Code station\"])\n",
    "    for code in stations:\n",
    "        for j in range(len(feature_grid)):\n",
    "            axs[i,j].plot(cv_moyen[cv_moyen[\"Max_features\"] == feature_grid[i]][\"Max_samples\"], \n",
    "                          cv_moyen[cv_moyen[\"Max_features\"] == feature_grid[i]][code],\n",
    "                          color = cours_eau_cmap(i))\n",
    "            axs[i,j].set_title(feature_grid[j])\n",
    "plt.show()"
   ]
  },
  {
   "cell_type": "markdown",
   "id": "aab1ecee-9eb8-4953-ad7a-efbc07a9fd34",
   "metadata": {},
   "source": [
    "## Moyen"
   ]
  },
  {
   "cell_type": "code",
   "execution_count": null,
   "id": "585c518f-5a58-4ab0-bd86-ca4316c70175",
   "metadata": {},
   "outputs": [],
   "source": [
    "cv_moyen = pd.DataFrame()\n",
    "\n",
    "for curr_feature in feature_grid:\n",
    "    for curr_sample in sample_grid:\n",
    "        curr_moyen = {}\n",
    "        cv_scores = pd.read_csv(\"../Data/GAMRandomForestAR/CV_RMSE_standard_\" + str(curr_feature) + \"_\" + str(curr_sample) + \".csv\")\n",
    "        for code in liste_stations_debit:\n",
    "            curr_moyen[code] = list(cv_scores[cv_scores[\"Code station\"] == code][\"Moyenne\"])\n",
    "        curr_moyen = pd.DataFrame(curr_moyen)\n",
    "        curr_moyen[\"Max_features\"] = curr_feature\n",
    "        curr_moyen[\"Max_samples\"] = curr_sample\n",
    "        cv_moyen = pd.concat([cv_moyen, curr_moyen])\n",
    "\n",
    "fig, axs = plt.subplots(1, len(feature_grid), figsize = (15,5), sharey=True)\n",
    "for j in range(len(feature_grid)):\n",
    "    axs[j].plot(cv_moyen[cv_moyen[\"Max_features\"] == feature_grid[i]][\"Max_samples\"], \n",
    "                  cv_moyen[cv_moyen[\"Max_features\"] == feature_grid[i]][liste_stations_debit].mean(axis = 1).values,)\n",
    "    axs[j].set_title(feature_grid[j])\n",
    "plt.show()\n"
   ]
  },
  {
   "cell_type": "code",
   "execution_count": null,
   "id": "53464340-9656-41f8-b48e-599671b6b5a7",
   "metadata": {},
   "outputs": [],
   "source": [
    "cv_moyen = pd.DataFrame()\n",
    "\n",
    "for curr_feature in feature_grid:\n",
    "    for curr_sample in sample_grid:\n",
    "        curr_moyen = {}\n",
    "        cv_scores = pd.read_csv(\"../Data/GAMRandomForestAR/CV_MAE_standard_\" + str(curr_feature) + \"_\" + str(curr_sample) + \".csv\")\n",
    "        for code in liste_stations_debit:\n",
    "            curr_moyen[code] = list(cv_scores[cv_scores[\"Code station\"] == code][\"Moyenne\"])\n",
    "        curr_moyen = pd.DataFrame(curr_moyen)\n",
    "        curr_moyen[\"Max_features\"] = curr_feature\n",
    "        curr_moyen[\"Max_samples\"] = curr_sample\n",
    "        cv_moyen = pd.concat([cv_moyen, curr_moyen])\n",
    "\n",
    "fig, axs = plt.subplots(1, len(feature_grid), figsize = (15,5), sharey=True)\n",
    "for j in range(len(feature_grid)):\n",
    "    axs[j].plot(cv_moyen[cv_moyen[\"Max_features\"] == feature_grid[i]][\"Max_samples\"], \n",
    "                  cv_moyen[cv_moyen[\"Max_features\"] == feature_grid[i]][liste_stations_debit].mean(axis = 1).values,)\n",
    "    axs[j].set_title(feature_grid[j])\n",
    "plt.show()"
   ]
  },
  {
   "cell_type": "code",
   "execution_count": 37,
   "id": "f36d4432-845d-4d2f-b5db-8b5e1ec93b9d",
   "metadata": {},
   "outputs": [
    {
     "ename": "FileNotFoundError",
     "evalue": "[Errno 2] No such file or directory: '../Data/GAMRandomForestAR/CV_R2_standard_auto_10.csv'",
     "output_type": "error",
     "traceback": [
      "\u001b[0;31m---------------------------------------------------------------------------\u001b[0m",
      "\u001b[0;31mFileNotFoundError\u001b[0m                         Traceback (most recent call last)",
      "\u001b[0;32m/tmp/ipykernel_3097/1752403594.py\u001b[0m in \u001b[0;36m<module>\u001b[0;34m\u001b[0m\n\u001b[1;32m      4\u001b[0m     \u001b[0;32mfor\u001b[0m \u001b[0mcurr_sample\u001b[0m \u001b[0;32min\u001b[0m \u001b[0msample_grid\u001b[0m\u001b[0;34m:\u001b[0m\u001b[0;34m\u001b[0m\u001b[0;34m\u001b[0m\u001b[0m\n\u001b[1;32m      5\u001b[0m         \u001b[0mcurr_moyen\u001b[0m \u001b[0;34m=\u001b[0m \u001b[0;34m{\u001b[0m\u001b[0;34m}\u001b[0m\u001b[0;34m\u001b[0m\u001b[0;34m\u001b[0m\u001b[0m\n\u001b[0;32m----> 6\u001b[0;31m         \u001b[0mcv_scores\u001b[0m \u001b[0;34m=\u001b[0m \u001b[0mpd\u001b[0m\u001b[0;34m.\u001b[0m\u001b[0mread_csv\u001b[0m\u001b[0;34m(\u001b[0m\u001b[0;34m\"../Data/GAMRandomForestAR/CV_R2_standard_\"\u001b[0m \u001b[0;34m+\u001b[0m \u001b[0mstr\u001b[0m\u001b[0;34m(\u001b[0m\u001b[0mcurr_feature\u001b[0m\u001b[0;34m)\u001b[0m \u001b[0;34m+\u001b[0m \u001b[0;34m\"_\"\u001b[0m \u001b[0;34m+\u001b[0m \u001b[0mstr\u001b[0m\u001b[0;34m(\u001b[0m\u001b[0mcurr_sample\u001b[0m\u001b[0;34m)\u001b[0m \u001b[0;34m+\u001b[0m \u001b[0;34m\".csv\"\u001b[0m\u001b[0;34m)\u001b[0m\u001b[0;34m\u001b[0m\u001b[0;34m\u001b[0m\u001b[0m\n\u001b[0m\u001b[1;32m      7\u001b[0m         \u001b[0;32mfor\u001b[0m \u001b[0mcode\u001b[0m \u001b[0;32min\u001b[0m \u001b[0mliste_stations_debit\u001b[0m\u001b[0;34m:\u001b[0m\u001b[0;34m\u001b[0m\u001b[0;34m\u001b[0m\u001b[0m\n\u001b[1;32m      8\u001b[0m             \u001b[0mcurr_moyen\u001b[0m\u001b[0;34m[\u001b[0m\u001b[0mcode\u001b[0m\u001b[0;34m]\u001b[0m \u001b[0;34m=\u001b[0m \u001b[0mlist\u001b[0m\u001b[0;34m(\u001b[0m\u001b[0mcv_scores\u001b[0m\u001b[0;34m[\u001b[0m\u001b[0mcv_scores\u001b[0m\u001b[0;34m[\u001b[0m\u001b[0;34m\"Code station\"\u001b[0m\u001b[0;34m]\u001b[0m \u001b[0;34m==\u001b[0m \u001b[0mcode\u001b[0m\u001b[0;34m]\u001b[0m\u001b[0;34m[\u001b[0m\u001b[0;34m\"Moyenne\"\u001b[0m\u001b[0;34m]\u001b[0m\u001b[0;34m)\u001b[0m\u001b[0;34m\u001b[0m\u001b[0;34m\u001b[0m\u001b[0m\n",
      "\u001b[0;32m~/miniconda3/envs/geo/lib/python3.9/site-packages/pandas/util/_decorators.py\u001b[0m in \u001b[0;36mwrapper\u001b[0;34m(*args, **kwargs)\u001b[0m\n\u001b[1;32m    309\u001b[0m                     \u001b[0mstacklevel\u001b[0m\u001b[0;34m=\u001b[0m\u001b[0mstacklevel\u001b[0m\u001b[0;34m,\u001b[0m\u001b[0;34m\u001b[0m\u001b[0;34m\u001b[0m\u001b[0m\n\u001b[1;32m    310\u001b[0m                 )\n\u001b[0;32m--> 311\u001b[0;31m             \u001b[0;32mreturn\u001b[0m \u001b[0mfunc\u001b[0m\u001b[0;34m(\u001b[0m\u001b[0;34m*\u001b[0m\u001b[0margs\u001b[0m\u001b[0;34m,\u001b[0m \u001b[0;34m**\u001b[0m\u001b[0mkwargs\u001b[0m\u001b[0;34m)\u001b[0m\u001b[0;34m\u001b[0m\u001b[0;34m\u001b[0m\u001b[0m\n\u001b[0m\u001b[1;32m    312\u001b[0m \u001b[0;34m\u001b[0m\u001b[0m\n\u001b[1;32m    313\u001b[0m         \u001b[0;32mreturn\u001b[0m \u001b[0mwrapper\u001b[0m\u001b[0;34m\u001b[0m\u001b[0;34m\u001b[0m\u001b[0m\n",
      "\u001b[0;32m~/miniconda3/envs/geo/lib/python3.9/site-packages/pandas/io/parsers/readers.py\u001b[0m in \u001b[0;36mread_csv\u001b[0;34m(filepath_or_buffer, sep, delimiter, header, names, index_col, usecols, squeeze, prefix, mangle_dupe_cols, dtype, engine, converters, true_values, false_values, skipinitialspace, skiprows, skipfooter, nrows, na_values, keep_default_na, na_filter, verbose, skip_blank_lines, parse_dates, infer_datetime_format, keep_date_col, date_parser, dayfirst, cache_dates, iterator, chunksize, compression, thousands, decimal, lineterminator, quotechar, quoting, doublequote, escapechar, comment, encoding, encoding_errors, dialect, error_bad_lines, warn_bad_lines, on_bad_lines, delim_whitespace, low_memory, memory_map, float_precision, storage_options)\u001b[0m\n\u001b[1;32m    678\u001b[0m     \u001b[0mkwds\u001b[0m\u001b[0;34m.\u001b[0m\u001b[0mupdate\u001b[0m\u001b[0;34m(\u001b[0m\u001b[0mkwds_defaults\u001b[0m\u001b[0;34m)\u001b[0m\u001b[0;34m\u001b[0m\u001b[0;34m\u001b[0m\u001b[0m\n\u001b[1;32m    679\u001b[0m \u001b[0;34m\u001b[0m\u001b[0m\n\u001b[0;32m--> 680\u001b[0;31m     \u001b[0;32mreturn\u001b[0m \u001b[0m_read\u001b[0m\u001b[0;34m(\u001b[0m\u001b[0mfilepath_or_buffer\u001b[0m\u001b[0;34m,\u001b[0m \u001b[0mkwds\u001b[0m\u001b[0;34m)\u001b[0m\u001b[0;34m\u001b[0m\u001b[0;34m\u001b[0m\u001b[0m\n\u001b[0m\u001b[1;32m    681\u001b[0m \u001b[0;34m\u001b[0m\u001b[0m\n\u001b[1;32m    682\u001b[0m \u001b[0;34m\u001b[0m\u001b[0m\n",
      "\u001b[0;32m~/miniconda3/envs/geo/lib/python3.9/site-packages/pandas/io/parsers/readers.py\u001b[0m in \u001b[0;36m_read\u001b[0;34m(filepath_or_buffer, kwds)\u001b[0m\n\u001b[1;32m    573\u001b[0m \u001b[0;34m\u001b[0m\u001b[0m\n\u001b[1;32m    574\u001b[0m     \u001b[0;31m# Create the parser.\u001b[0m\u001b[0;34m\u001b[0m\u001b[0;34m\u001b[0m\u001b[0m\n\u001b[0;32m--> 575\u001b[0;31m     \u001b[0mparser\u001b[0m \u001b[0;34m=\u001b[0m \u001b[0mTextFileReader\u001b[0m\u001b[0;34m(\u001b[0m\u001b[0mfilepath_or_buffer\u001b[0m\u001b[0;34m,\u001b[0m \u001b[0;34m**\u001b[0m\u001b[0mkwds\u001b[0m\u001b[0;34m)\u001b[0m\u001b[0;34m\u001b[0m\u001b[0;34m\u001b[0m\u001b[0m\n\u001b[0m\u001b[1;32m    576\u001b[0m \u001b[0;34m\u001b[0m\u001b[0m\n\u001b[1;32m    577\u001b[0m     \u001b[0;32mif\u001b[0m \u001b[0mchunksize\u001b[0m \u001b[0;32mor\u001b[0m \u001b[0miterator\u001b[0m\u001b[0;34m:\u001b[0m\u001b[0;34m\u001b[0m\u001b[0;34m\u001b[0m\u001b[0m\n",
      "\u001b[0;32m~/miniconda3/envs/geo/lib/python3.9/site-packages/pandas/io/parsers/readers.py\u001b[0m in \u001b[0;36m__init__\u001b[0;34m(self, f, engine, **kwds)\u001b[0m\n\u001b[1;32m    931\u001b[0m \u001b[0;34m\u001b[0m\u001b[0m\n\u001b[1;32m    932\u001b[0m         \u001b[0mself\u001b[0m\u001b[0;34m.\u001b[0m\u001b[0mhandles\u001b[0m\u001b[0;34m:\u001b[0m \u001b[0mIOHandles\u001b[0m \u001b[0;34m|\u001b[0m \u001b[0;32mNone\u001b[0m \u001b[0;34m=\u001b[0m \u001b[0;32mNone\u001b[0m\u001b[0;34m\u001b[0m\u001b[0;34m\u001b[0m\u001b[0m\n\u001b[0;32m--> 933\u001b[0;31m         \u001b[0mself\u001b[0m\u001b[0;34m.\u001b[0m\u001b[0m_engine\u001b[0m \u001b[0;34m=\u001b[0m \u001b[0mself\u001b[0m\u001b[0;34m.\u001b[0m\u001b[0m_make_engine\u001b[0m\u001b[0;34m(\u001b[0m\u001b[0mf\u001b[0m\u001b[0;34m,\u001b[0m \u001b[0mself\u001b[0m\u001b[0;34m.\u001b[0m\u001b[0mengine\u001b[0m\u001b[0;34m)\u001b[0m\u001b[0;34m\u001b[0m\u001b[0;34m\u001b[0m\u001b[0m\n\u001b[0m\u001b[1;32m    934\u001b[0m \u001b[0;34m\u001b[0m\u001b[0m\n\u001b[1;32m    935\u001b[0m     \u001b[0;32mdef\u001b[0m \u001b[0mclose\u001b[0m\u001b[0;34m(\u001b[0m\u001b[0mself\u001b[0m\u001b[0;34m)\u001b[0m\u001b[0;34m:\u001b[0m\u001b[0;34m\u001b[0m\u001b[0;34m\u001b[0m\u001b[0m\n",
      "\u001b[0;32m~/miniconda3/envs/geo/lib/python3.9/site-packages/pandas/io/parsers/readers.py\u001b[0m in \u001b[0;36m_make_engine\u001b[0;34m(self, f, engine)\u001b[0m\n\u001b[1;32m   1215\u001b[0m             \u001b[0;31m# \"Union[str, PathLike[str], ReadCsvBuffer[bytes], ReadCsvBuffer[str]]\"\u001b[0m\u001b[0;34m\u001b[0m\u001b[0;34m\u001b[0m\u001b[0m\n\u001b[1;32m   1216\u001b[0m             \u001b[0;31m# , \"str\", \"bool\", \"Any\", \"Any\", \"Any\", \"Any\", \"Any\"\u001b[0m\u001b[0;34m\u001b[0m\u001b[0;34m\u001b[0m\u001b[0m\n\u001b[0;32m-> 1217\u001b[0;31m             self.handles = get_handle(  # type: ignore[call-overload]\n\u001b[0m\u001b[1;32m   1218\u001b[0m                 \u001b[0mf\u001b[0m\u001b[0;34m,\u001b[0m\u001b[0;34m\u001b[0m\u001b[0;34m\u001b[0m\u001b[0m\n\u001b[1;32m   1219\u001b[0m                 \u001b[0mmode\u001b[0m\u001b[0;34m,\u001b[0m\u001b[0;34m\u001b[0m\u001b[0;34m\u001b[0m\u001b[0m\n",
      "\u001b[0;32m~/miniconda3/envs/geo/lib/python3.9/site-packages/pandas/io/common.py\u001b[0m in \u001b[0;36mget_handle\u001b[0;34m(path_or_buf, mode, encoding, compression, memory_map, is_text, errors, storage_options)\u001b[0m\n\u001b[1;32m    787\u001b[0m         \u001b[0;32mif\u001b[0m \u001b[0mioargs\u001b[0m\u001b[0;34m.\u001b[0m\u001b[0mencoding\u001b[0m \u001b[0;32mand\u001b[0m \u001b[0;34m\"b\"\u001b[0m \u001b[0;32mnot\u001b[0m \u001b[0;32min\u001b[0m \u001b[0mioargs\u001b[0m\u001b[0;34m.\u001b[0m\u001b[0mmode\u001b[0m\u001b[0;34m:\u001b[0m\u001b[0;34m\u001b[0m\u001b[0;34m\u001b[0m\u001b[0m\n\u001b[1;32m    788\u001b[0m             \u001b[0;31m# Encoding\u001b[0m\u001b[0;34m\u001b[0m\u001b[0;34m\u001b[0m\u001b[0m\n\u001b[0;32m--> 789\u001b[0;31m             handle = open(\n\u001b[0m\u001b[1;32m    790\u001b[0m                 \u001b[0mhandle\u001b[0m\u001b[0;34m,\u001b[0m\u001b[0;34m\u001b[0m\u001b[0;34m\u001b[0m\u001b[0m\n\u001b[1;32m    791\u001b[0m                 \u001b[0mioargs\u001b[0m\u001b[0;34m.\u001b[0m\u001b[0mmode\u001b[0m\u001b[0;34m,\u001b[0m\u001b[0;34m\u001b[0m\u001b[0;34m\u001b[0m\u001b[0m\n",
      "\u001b[0;31mFileNotFoundError\u001b[0m: [Errno 2] No such file or directory: '../Data/GAMRandomForestAR/CV_R2_standard_auto_10.csv'"
     ]
    }
   ],
   "source": [
    "cv_moyen = pd.DataFrame()\n",
    "\n",
    "for curr_feature in feature_grid:\n",
    "    for curr_sample in sample_grid:\n",
    "        curr_moyen = {}\n",
    "        cv_scores = pd.read_csv(\"../Data/GAMRandomForestAR/CV_R2_standard_\" + str(curr_feature) + \"_\" + str(curr_sample) + \".csv\")\n",
    "        for code in liste_stations_debit:\n",
    "            curr_moyen[code] = list(cv_scores[cv_scores[\"Code station\"] == code][\"Moyenne\"])\n",
    "        curr_moyen = pd.DataFrame(curr_moyen)\n",
    "        curr_moyen[\"Max_features\"] = curr_feature\n",
    "        curr_moyen[\"Max_samples\"] = curr_sample\n",
    "        cv_moyen = pd.concat([cv_moyen, curr_moyen])\n",
    "\n",
    "fig, axs = plt.subplots(1, len(feature_grid), figsize = (15,5), sharey=True)\n",
    "for j in range(len(feature_grid)):\n",
    "    axs[j].plot(cv_moyen[cv_moyen[\"Max_features\"] == feature_grid[i]][\"Max_samples\"], \n",
    "                  cv_moyen[cv_moyen[\"Max_features\"] == feature_grid[i]][liste_stations_debit].mean(axis = 1).values,)\n",
    "    axs[j].set_title(feature_grid[j])\n",
    "plt.show()"
   ]
  },
  {
   "cell_type": "markdown",
   "id": "19b546cd-b011-40e7-bfda-b739c6531a21",
   "metadata": {},
   "source": [
    "# Test"
   ]
  },
  {
   "cell_type": "code",
   "execution_count": null,
   "id": "5d4df88e-e968-418d-bdae-3bfc80075d10",
   "metadata": {},
   "outputs": [],
   "source": [
    "sample = 0.8"
   ]
  },
  {
   "cell_type": "code",
   "execution_count": null,
   "id": "9e6925f2-3461-45c6-9fce-75678cc218d2",
   "metadata": {},
   "outputs": [],
   "source": [
    "# Donnees\n",
    "mesures_train_X_mean = mesures_train_X[liste_stations_debit + colonnes_meteo_stations].mean()\n",
    "mesures_train_X_std = mesures_train_X[liste_stations_debit + colonnes_meteo_stations].std()\n",
    "mesures_train_X_standard = fct_Standardize(mesures_train_X, \n",
    "                                           mesures_train_X_mean, mesures_train_X_std, \n",
    "                                           liste_stations_debit + colonnes_meteo_stations)\n",
    "mesures_train_X_standard[\"Date\"] = mesures_train_X[\"Date\"]\n",
    "\n",
    "mesures_test_X_standard =fct_Standardize(mesures_test_X, mesures_train_X_mean, mesures_train_X_std, \n",
    "                                         liste_stations_debit + colonnes_meteo_stations)\n",
    "mesures_test_X_standard[\"Date\"] = mesures_test_X[\"Date\"].values\n",
    "mesures_test_Y_standard = fct_Standardize(mesures_test_Y, mesures_train_X_mean, mesures_train_X_std, \n",
    "                                          liste_stations_debit)\n",
    "mesures_test_Y_standard[\"Date\"] = mesures_test_Y[\"Date\"]\n",
    "liste_dates = mesures_test_Y[\"Date\"]"
   ]
  },
  {
   "cell_type": "code",
   "execution_count": null,
   "id": "e7b29e88-49f0-4ff0-b69c-3b64f85199e5",
   "metadata": {},
   "outputs": [],
   "source": [
    "# Entrainement\n",
    "model_RF = RandomForestRegressor(max_features=curr_feature,\n",
    "                                max_samples=sample)\n",
    "model_RF.fit(X = mesures_train_X_standard[colonnes_meteo_stations],\n",
    "      y = mesures_train_X_standard[liste_stations_debit])"
   ]
  },
  {
   "cell_type": "code",
   "execution_count": null,
   "id": "a604a118-b67c-4302-99c8-f38e1a68f838",
   "metadata": {},
   "outputs": [],
   "source": [
    "# Predictions\n",
    "predictions_test_Y_standard = model_RF.predict(mesures_test_X_standard[colonnes_meteo_stations])\n",
    "predictions_test_Y_standard = pd.DataFrame(predictions_test_Y_standard, columns=liste_stations_debit)\n",
    "predictions_test_Y_standard[\"Date\"] = mesures_test_X_standard[\"Date\"].values\n",
    "    # Filtre sur les dates\n",
    "resultat = pd.DataFrame()\n",
    "for curr_date in liste_dates:\n",
    "    resultat = pd.concat([resultat, predictions_test_Y_standard[predictions_test_Y_standard[\"Date\"] == curr_date]])\n",
    "resultat = resultat.sort_values(by = \"Date\")\n",
    "predictions_test_Y_standard = resultat.copy()"
   ]
  },
  {
   "cell_type": "code",
   "execution_count": null,
   "id": "6fb685b8-30bf-4327-bb1d-508683b3981c",
   "metadata": {},
   "outputs": [],
   "source": [
    "predictions_test_Y = fct_StandardizeInverse(predictions_test_Y_standard, mesures_train_X_mean,\n",
    "                                              mesures_train_X_std, liste_stations_debit)\n",
    "predictions_test_Y[\"Date\"] = predictions_test_Y_standard[\"Date\"].values"
   ]
  },
  {
   "cell_type": "code",
   "execution_count": null,
   "id": "ac45b5cc-9112-4f55-aea8-e3fb146a5e1c",
   "metadata": {},
   "outputs": [],
   "source": [
    "n_stations = len(liste_stations_debit)\n",
    "fig, axs = plt.subplots(n_stations, 1, figsize = (15,30), sharex=True)\n",
    "for i in range(n_stations):\n",
    "    code = liste_stations_debit[i]\n",
    "    axs[i].plot(mesures_test_Y_standard[\"Date\"], mesures_test_Y_standard[code], label = \"True\")\n",
    "    axs[i].plot(predictions_test_Y_standard[\"Date\"], predictions_test_Y_standard[code], label = \"Predictions\")\n",
    "    axs[i].legend()"
   ]
  },
  {
   "cell_type": "code",
   "execution_count": null,
   "id": "86ef7eec-7c3d-4407-a91e-5f1fdbd84fb8",
   "metadata": {},
   "outputs": [],
   "source": [
    "scores_rmse_standard = fct_RMSE(mesures_test_Y_standard, predictions_test_Y_standard, liste_stations_debit)\n",
    "scores_mae_standard = fct_MAE(mesures_test_Y_standard, predictions_test_Y_standard, liste_stations_debit)\n",
    "scores_r2_standard = fct_R2(mesures_test_Y_standard, predictions_test_Y_standard, liste_stations_debit)\n",
    "\n",
    "test_scores_standard = pd.DataFrame({\"Code station\": liste_stations_debit,\n",
    "                            \"RMSE\": scores_rmse_standard[\"RMSE\"],\n",
    "                            \"MAE\": scores_mae_standard[\"MAE\"],\n",
    "                            \"R2\": scores_r2_standard[\"R2\"]})\n",
    "test_scores_standard.to_csv(\"../Data/GAMRandomForestAR/Test_scores_standard.csv\",\n",
    "                   index = False)\n",
    "test_scores_standard"
   ]
  },
  {
   "cell_type": "code",
   "execution_count": null,
   "id": "77c568a0-72b5-40c2-a9bf-59a2cff8f593",
   "metadata": {},
   "outputs": [],
   "source": [
    "test_scores_standard[[\"RMSE\", \"MAE\", \"R2\"]].mean()"
   ]
  },
  {
   "cell_type": "code",
   "execution_count": 38,
   "id": "e75f97eb-282d-4570-b53d-d431992c291c",
   "metadata": {},
   "outputs": [
    {
     "ename": "ValueError",
     "evalue": "operands could not be broadcast together with shapes (352,) (351,) ",
     "output_type": "error",
     "traceback": [
      "\u001b[0;31m---------------------------------------------------------------------------\u001b[0m",
      "\u001b[0;31mValueError\u001b[0m                                Traceback (most recent call last)",
      "\u001b[0;32m/tmp/ipykernel_3097/1364345813.py\u001b[0m in \u001b[0;36m<module>\u001b[0;34m\u001b[0m\n\u001b[0;32m----> 1\u001b[0;31m \u001b[0mscores_rmse\u001b[0m \u001b[0;34m=\u001b[0m \u001b[0mfct_RMSE\u001b[0m\u001b[0;34m(\u001b[0m\u001b[0mmesures_test_Y\u001b[0m\u001b[0;34m,\u001b[0m \u001b[0mpredictions_test_Y\u001b[0m\u001b[0;34m,\u001b[0m \u001b[0mliste_stations_debit\u001b[0m\u001b[0;34m)\u001b[0m\u001b[0;34m\u001b[0m\u001b[0;34m\u001b[0m\u001b[0m\n\u001b[0m\u001b[1;32m      2\u001b[0m \u001b[0mscores_mae\u001b[0m \u001b[0;34m=\u001b[0m \u001b[0mfct_MAE\u001b[0m\u001b[0;34m(\u001b[0m\u001b[0mmesures_test_Y\u001b[0m\u001b[0;34m,\u001b[0m \u001b[0mpredictions_test_Y\u001b[0m\u001b[0;34m,\u001b[0m \u001b[0mliste_stations_debit\u001b[0m\u001b[0;34m)\u001b[0m\u001b[0;34m\u001b[0m\u001b[0;34m\u001b[0m\u001b[0m\n\u001b[1;32m      3\u001b[0m \u001b[0mscores_r2\u001b[0m \u001b[0;34m=\u001b[0m \u001b[0mfct_R2\u001b[0m\u001b[0;34m(\u001b[0m\u001b[0mmesures_test_Y\u001b[0m\u001b[0;34m,\u001b[0m \u001b[0mpredictions_test_Y\u001b[0m\u001b[0;34m,\u001b[0m \u001b[0mliste_stations_debit\u001b[0m\u001b[0;34m)\u001b[0m\u001b[0;34m\u001b[0m\u001b[0;34m\u001b[0m\u001b[0m\n\u001b[1;32m      4\u001b[0m \u001b[0;34m\u001b[0m\u001b[0m\n\u001b[1;32m      5\u001b[0m test_scores = pd.DataFrame({\"Code station\": liste_stations_debit,\n",
      "\u001b[0;32m~/Documents/GitHub/StatML_ProjectML/Eval_fcts.py\u001b[0m in \u001b[0;36mfct_RMSE\u001b[0;34m(Y_true, Y_pred, liste_stations)\u001b[0m\n\u001b[1;32m      8\u001b[0m     \u001b[0mliste_rmse\u001b[0m \u001b[0;34m=\u001b[0m \u001b[0;34m[\u001b[0m\u001b[0;34m]\u001b[0m\u001b[0;34m\u001b[0m\u001b[0;34m\u001b[0m\u001b[0m\n\u001b[1;32m      9\u001b[0m     \u001b[0;32mfor\u001b[0m \u001b[0mcode\u001b[0m \u001b[0;32min\u001b[0m \u001b[0mliste_stations\u001b[0m\u001b[0;34m:\u001b[0m\u001b[0;34m\u001b[0m\u001b[0;34m\u001b[0m\u001b[0m\n\u001b[0;32m---> 10\u001b[0;31m         \u001b[0mliste_rmse\u001b[0m\u001b[0;34m.\u001b[0m\u001b[0mappend\u001b[0m\u001b[0;34m(\u001b[0m\u001b[0mnp\u001b[0m\u001b[0;34m.\u001b[0m\u001b[0msqrt\u001b[0m\u001b[0;34m(\u001b[0m\u001b[0mnp\u001b[0m\u001b[0;34m.\u001b[0m\u001b[0mmean\u001b[0m\u001b[0;34m(\u001b[0m\u001b[0mnp\u001b[0m\u001b[0;34m.\u001b[0m\u001b[0msquare\u001b[0m\u001b[0;34m(\u001b[0m\u001b[0mY_true\u001b[0m\u001b[0;34m[\u001b[0m\u001b[0mcode\u001b[0m\u001b[0;34m]\u001b[0m\u001b[0;34m.\u001b[0m\u001b[0mvalues\u001b[0m \u001b[0;34m-\u001b[0m \u001b[0mY_pred\u001b[0m\u001b[0;34m[\u001b[0m\u001b[0mcode\u001b[0m\u001b[0;34m]\u001b[0m\u001b[0;34m.\u001b[0m\u001b[0mvalues\u001b[0m\u001b[0;34m)\u001b[0m\u001b[0;34m)\u001b[0m\u001b[0;34m)\u001b[0m\u001b[0;34m)\u001b[0m\u001b[0;34m\u001b[0m\u001b[0;34m\u001b[0m\u001b[0m\n\u001b[0m\u001b[1;32m     11\u001b[0m     \u001b[0mresultat\u001b[0m \u001b[0;34m=\u001b[0m \u001b[0mpd\u001b[0m\u001b[0;34m.\u001b[0m\u001b[0mDataFrame\u001b[0m\u001b[0;34m(\u001b[0m\u001b[0;34m{\u001b[0m\u001b[0;34m\"Code station\"\u001b[0m\u001b[0;34m:\u001b[0m \u001b[0mliste_stations\u001b[0m\u001b[0;34m,\u001b[0m \u001b[0;34m\"RMSE\"\u001b[0m\u001b[0;34m:\u001b[0m \u001b[0mliste_rmse\u001b[0m\u001b[0;34m}\u001b[0m\u001b[0;34m)\u001b[0m\u001b[0;34m\u001b[0m\u001b[0;34m\u001b[0m\u001b[0m\n\u001b[1;32m     12\u001b[0m     \u001b[0;32mreturn\u001b[0m \u001b[0mresultat\u001b[0m\u001b[0;34m\u001b[0m\u001b[0;34m\u001b[0m\u001b[0m\n",
      "\u001b[0;31mValueError\u001b[0m: operands could not be broadcast together with shapes (352,) (351,) "
     ]
    }
   ],
   "source": [
    "scores_rmse = fct_RMSE(mesures_test_Y, predictions_test_Y, liste_stations_debit)\n",
    "scores_mae = fct_MAE(mesures_test_Y, predictions_test_Y, liste_stations_debit)\n",
    "scores_r2 = fct_R2(mesures_test_Y, predictions_test_Y, liste_stations_debit)\n",
    "\n",
    "test_scores = pd.DataFrame({\"Code station\": liste_stations_debit,\n",
    "                            \"RMSE\": scores_rmse[\"RMSE\"],\n",
    "                            \"MAE\": scores_mae[\"MAE\"],\n",
    "                            \"R2\": scores_r2[\"R2\"]})\n",
    "test_scores.to_csv(\"../Data/GAMRandomForestAR/Test_scores.csv\",\n",
    "                   index = False)\n",
    "test_scores"
   ]
  },
  {
   "cell_type": "code",
   "execution_count": null,
   "id": "e13a16aa-a85d-4168-8ce9-e0fa3d6c4984",
   "metadata": {},
   "outputs": [],
   "source": []
  }
 ],
 "metadata": {
  "kernelspec": {
   "display_name": "Python 3 (ipykernel)",
   "language": "python",
   "name": "python3"
  },
  "language_info": {
   "codemirror_mode": {
    "name": "ipython",
    "version": 3
   },
   "file_extension": ".py",
   "mimetype": "text/x-python",
   "name": "python",
   "nbconvert_exporter": "python",
   "pygments_lexer": "ipython3",
   "version": "3.9.7"
  }
 },
 "nbformat": 4,
 "nbformat_minor": 5
}
